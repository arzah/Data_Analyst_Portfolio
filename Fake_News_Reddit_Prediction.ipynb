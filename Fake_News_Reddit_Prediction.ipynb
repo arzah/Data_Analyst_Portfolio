{
  "nbformat": 4,
  "nbformat_minor": 0,
  "metadata": {
    "colab": {
      "provenance": [],
      "authorship_tag": "ABX9TyN4fJNhmTIxaQOda3DcEHoR",
      "include_colab_link": true
    },
    "kernelspec": {
      "name": "python3",
      "display_name": "Python 3"
    },
    "language_info": {
      "name": "python"
    }
  },
  "cells": [
    {
      "cell_type": "markdown",
      "metadata": {
        "id": "view-in-github",
        "colab_type": "text"
      },
      "source": [
        "<a href=\"https://colab.research.google.com/github/arzah/Data_Analyst_Portfolio/blob/main/Fake_News_Reddit_Prediction.ipynb\" target=\"_parent\"><img src=\"https://colab.research.google.com/assets/colab-badge.svg\" alt=\"Open In Colab\"/></a>"
      ]
    },
    {
      "cell_type": "code",
      "execution_count": null,
      "metadata": {
        "colab": {
          "base_uri": "https://localhost:8080/",
          "height": 510
        },
        "id": "MnBAQrbLNpTY",
        "outputId": "70c22a7a-7739-4e29-a89e-32484dc31c80"
      },
      "outputs": [
        {
          "output_type": "stream",
          "name": "stdout",
          "text": [
            "<class 'pandas.core.frame.DataFrame'>\n",
            "RangeIndex: 878218 entries, 0 to 878217\n",
            "Data columns (total 10 columns):\n",
            " #   Column          Non-Null Count   Dtype  \n",
            "---  ------          --------------   -----  \n",
            " 0   ID              878218 non-null  int64  \n",
            " 1   hasImage        878218 non-null  bool   \n",
            " 2   user_name_len   729472 non-null  float64\n",
            " 3   title_len       804378 non-null  float64\n",
            " 4   num_comments    636118 non-null  float64\n",
            " 5   subreddit       878218 non-null  object \n",
            " 6   upvote_ratio    636118 non-null  float64\n",
            " 7   score           878218 non-null  int64  \n",
            " 8   upvote_ratio.1  636118 non-null  float64\n",
            " 9   2_way_label     878218 non-null  int64  \n",
            "dtypes: bool(1), float64(5), int64(3), object(1)\n",
            "memory usage: 61.1+ MB\n"
          ]
        },
        {
          "output_type": "execute_result",
          "data": {
            "text/plain": [
              "   ID  hasImage  user_name_len  title_len  num_comments          subreddit  \\\n",
              "0   0      True           11.0       92.0           2.0  mildlyinteresting   \n",
              "1   1      True            9.0        NaN           NaN   psbattle_artwork   \n",
              "2   2      True            8.0       35.0           2.0         pareidolia   \n",
              "3   3      True           14.0       45.0           1.0        neutralnews   \n",
              "4   4      True            NaN        NaN           NaN   psbattle_artwork   \n",
              "\n",
              "   upvote_ratio  score  upvote_ratio.1  2_way_label  \n",
              "0          0.84     12            0.84            1  \n",
              "1           NaN      5             NaN            0  \n",
              "2          0.99    119            0.99            0  \n",
              "3          0.92     44            0.92            1  \n",
              "4           NaN      3             NaN            0  "
            ],
            "text/html": [
              "\n",
              "  <div id=\"df-b3745b7b-84de-4550-8b98-b7428889e4a6\" class=\"colab-df-container\">\n",
              "    <div>\n",
              "<style scoped>\n",
              "    .dataframe tbody tr th:only-of-type {\n",
              "        vertical-align: middle;\n",
              "    }\n",
              "\n",
              "    .dataframe tbody tr th {\n",
              "        vertical-align: top;\n",
              "    }\n",
              "\n",
              "    .dataframe thead th {\n",
              "        text-align: right;\n",
              "    }\n",
              "</style>\n",
              "<table border=\"1\" class=\"dataframe\">\n",
              "  <thead>\n",
              "    <tr style=\"text-align: right;\">\n",
              "      <th></th>\n",
              "      <th>ID</th>\n",
              "      <th>hasImage</th>\n",
              "      <th>user_name_len</th>\n",
              "      <th>title_len</th>\n",
              "      <th>num_comments</th>\n",
              "      <th>subreddit</th>\n",
              "      <th>upvote_ratio</th>\n",
              "      <th>score</th>\n",
              "      <th>upvote_ratio.1</th>\n",
              "      <th>2_way_label</th>\n",
              "    </tr>\n",
              "  </thead>\n",
              "  <tbody>\n",
              "    <tr>\n",
              "      <th>0</th>\n",
              "      <td>0</td>\n",
              "      <td>True</td>\n",
              "      <td>11.0</td>\n",
              "      <td>92.0</td>\n",
              "      <td>2.0</td>\n",
              "      <td>mildlyinteresting</td>\n",
              "      <td>0.84</td>\n",
              "      <td>12</td>\n",
              "      <td>0.84</td>\n",
              "      <td>1</td>\n",
              "    </tr>\n",
              "    <tr>\n",
              "      <th>1</th>\n",
              "      <td>1</td>\n",
              "      <td>True</td>\n",
              "      <td>9.0</td>\n",
              "      <td>NaN</td>\n",
              "      <td>NaN</td>\n",
              "      <td>psbattle_artwork</td>\n",
              "      <td>NaN</td>\n",
              "      <td>5</td>\n",
              "      <td>NaN</td>\n",
              "      <td>0</td>\n",
              "    </tr>\n",
              "    <tr>\n",
              "      <th>2</th>\n",
              "      <td>2</td>\n",
              "      <td>True</td>\n",
              "      <td>8.0</td>\n",
              "      <td>35.0</td>\n",
              "      <td>2.0</td>\n",
              "      <td>pareidolia</td>\n",
              "      <td>0.99</td>\n",
              "      <td>119</td>\n",
              "      <td>0.99</td>\n",
              "      <td>0</td>\n",
              "    </tr>\n",
              "    <tr>\n",
              "      <th>3</th>\n",
              "      <td>3</td>\n",
              "      <td>True</td>\n",
              "      <td>14.0</td>\n",
              "      <td>45.0</td>\n",
              "      <td>1.0</td>\n",
              "      <td>neutralnews</td>\n",
              "      <td>0.92</td>\n",
              "      <td>44</td>\n",
              "      <td>0.92</td>\n",
              "      <td>1</td>\n",
              "    </tr>\n",
              "    <tr>\n",
              "      <th>4</th>\n",
              "      <td>4</td>\n",
              "      <td>True</td>\n",
              "      <td>NaN</td>\n",
              "      <td>NaN</td>\n",
              "      <td>NaN</td>\n",
              "      <td>psbattle_artwork</td>\n",
              "      <td>NaN</td>\n",
              "      <td>3</td>\n",
              "      <td>NaN</td>\n",
              "      <td>0</td>\n",
              "    </tr>\n",
              "  </tbody>\n",
              "</table>\n",
              "</div>\n",
              "    <div class=\"colab-df-buttons\">\n",
              "\n",
              "  <div class=\"colab-df-container\">\n",
              "    <button class=\"colab-df-convert\" onclick=\"convertToInteractive('df-b3745b7b-84de-4550-8b98-b7428889e4a6')\"\n",
              "            title=\"Convert this dataframe to an interactive table.\"\n",
              "            style=\"display:none;\">\n",
              "\n",
              "  <svg xmlns=\"http://www.w3.org/2000/svg\" height=\"24px\" viewBox=\"0 -960 960 960\">\n",
              "    <path d=\"M120-120v-720h720v720H120Zm60-500h600v-160H180v160Zm220 220h160v-160H400v160Zm0 220h160v-160H400v160ZM180-400h160v-160H180v160Zm440 0h160v-160H620v160ZM180-180h160v-160H180v160Zm440 0h160v-160H620v160Z\"/>\n",
              "  </svg>\n",
              "    </button>\n",
              "\n",
              "  <style>\n",
              "    .colab-df-container {\n",
              "      display:flex;\n",
              "      gap: 12px;\n",
              "    }\n",
              "\n",
              "    .colab-df-convert {\n",
              "      background-color: #E8F0FE;\n",
              "      border: none;\n",
              "      border-radius: 50%;\n",
              "      cursor: pointer;\n",
              "      display: none;\n",
              "      fill: #1967D2;\n",
              "      height: 32px;\n",
              "      padding: 0 0 0 0;\n",
              "      width: 32px;\n",
              "    }\n",
              "\n",
              "    .colab-df-convert:hover {\n",
              "      background-color: #E2EBFA;\n",
              "      box-shadow: 0px 1px 2px rgba(60, 64, 67, 0.3), 0px 1px 3px 1px rgba(60, 64, 67, 0.15);\n",
              "      fill: #174EA6;\n",
              "    }\n",
              "\n",
              "    .colab-df-buttons div {\n",
              "      margin-bottom: 4px;\n",
              "    }\n",
              "\n",
              "    [theme=dark] .colab-df-convert {\n",
              "      background-color: #3B4455;\n",
              "      fill: #D2E3FC;\n",
              "    }\n",
              "\n",
              "    [theme=dark] .colab-df-convert:hover {\n",
              "      background-color: #434B5C;\n",
              "      box-shadow: 0px 1px 3px 1px rgba(0, 0, 0, 0.15);\n",
              "      filter: drop-shadow(0px 1px 2px rgba(0, 0, 0, 0.3));\n",
              "      fill: #FFFFFF;\n",
              "    }\n",
              "  </style>\n",
              "\n",
              "    <script>\n",
              "      const buttonEl =\n",
              "        document.querySelector('#df-b3745b7b-84de-4550-8b98-b7428889e4a6 button.colab-df-convert');\n",
              "      buttonEl.style.display =\n",
              "        google.colab.kernel.accessAllowed ? 'block' : 'none';\n",
              "\n",
              "      async function convertToInteractive(key) {\n",
              "        const element = document.querySelector('#df-b3745b7b-84de-4550-8b98-b7428889e4a6');\n",
              "        const dataTable =\n",
              "          await google.colab.kernel.invokeFunction('convertToInteractive',\n",
              "                                                    [key], {});\n",
              "        if (!dataTable) return;\n",
              "\n",
              "        const docLinkHtml = 'Like what you see? Visit the ' +\n",
              "          '<a target=\"_blank\" href=https://colab.research.google.com/notebooks/data_table.ipynb>data table notebook</a>'\n",
              "          + ' to learn more about interactive tables.';\n",
              "        element.innerHTML = '';\n",
              "        dataTable['output_type'] = 'display_data';\n",
              "        await google.colab.output.renderOutput(dataTable, element);\n",
              "        const docLink = document.createElement('div');\n",
              "        docLink.innerHTML = docLinkHtml;\n",
              "        element.appendChild(docLink);\n",
              "      }\n",
              "    </script>\n",
              "  </div>\n",
              "\n",
              "\n",
              "<div id=\"df-b8d041c8-8b29-4a52-870a-e08534317219\">\n",
              "  <button class=\"colab-df-quickchart\" onclick=\"quickchart('df-b8d041c8-8b29-4a52-870a-e08534317219')\"\n",
              "            title=\"Suggest charts.\"\n",
              "            style=\"display:none;\">\n",
              "\n",
              "<svg xmlns=\"http://www.w3.org/2000/svg\" height=\"24px\"viewBox=\"0 0 24 24\"\n",
              "     width=\"24px\">\n",
              "    <g>\n",
              "        <path d=\"M19 3H5c-1.1 0-2 .9-2 2v14c0 1.1.9 2 2 2h14c1.1 0 2-.9 2-2V5c0-1.1-.9-2-2-2zM9 17H7v-7h2v7zm4 0h-2V7h2v10zm4 0h-2v-4h2v4z\"/>\n",
              "    </g>\n",
              "</svg>\n",
              "  </button>\n",
              "\n",
              "<style>\n",
              "  .colab-df-quickchart {\n",
              "      --bg-color: #E8F0FE;\n",
              "      --fill-color: #1967D2;\n",
              "      --hover-bg-color: #E2EBFA;\n",
              "      --hover-fill-color: #174EA6;\n",
              "      --disabled-fill-color: #AAA;\n",
              "      --disabled-bg-color: #DDD;\n",
              "  }\n",
              "\n",
              "  [theme=dark] .colab-df-quickchart {\n",
              "      --bg-color: #3B4455;\n",
              "      --fill-color: #D2E3FC;\n",
              "      --hover-bg-color: #434B5C;\n",
              "      --hover-fill-color: #FFFFFF;\n",
              "      --disabled-bg-color: #3B4455;\n",
              "      --disabled-fill-color: #666;\n",
              "  }\n",
              "\n",
              "  .colab-df-quickchart {\n",
              "    background-color: var(--bg-color);\n",
              "    border: none;\n",
              "    border-radius: 50%;\n",
              "    cursor: pointer;\n",
              "    display: none;\n",
              "    fill: var(--fill-color);\n",
              "    height: 32px;\n",
              "    padding: 0;\n",
              "    width: 32px;\n",
              "  }\n",
              "\n",
              "  .colab-df-quickchart:hover {\n",
              "    background-color: var(--hover-bg-color);\n",
              "    box-shadow: 0 1px 2px rgba(60, 64, 67, 0.3), 0 1px 3px 1px rgba(60, 64, 67, 0.15);\n",
              "    fill: var(--button-hover-fill-color);\n",
              "  }\n",
              "\n",
              "  .colab-df-quickchart-complete:disabled,\n",
              "  .colab-df-quickchart-complete:disabled:hover {\n",
              "    background-color: var(--disabled-bg-color);\n",
              "    fill: var(--disabled-fill-color);\n",
              "    box-shadow: none;\n",
              "  }\n",
              "\n",
              "  .colab-df-spinner {\n",
              "    border: 2px solid var(--fill-color);\n",
              "    border-color: transparent;\n",
              "    border-bottom-color: var(--fill-color);\n",
              "    animation:\n",
              "      spin 1s steps(1) infinite;\n",
              "  }\n",
              "\n",
              "  @keyframes spin {\n",
              "    0% {\n",
              "      border-color: transparent;\n",
              "      border-bottom-color: var(--fill-color);\n",
              "      border-left-color: var(--fill-color);\n",
              "    }\n",
              "    20% {\n",
              "      border-color: transparent;\n",
              "      border-left-color: var(--fill-color);\n",
              "      border-top-color: var(--fill-color);\n",
              "    }\n",
              "    30% {\n",
              "      border-color: transparent;\n",
              "      border-left-color: var(--fill-color);\n",
              "      border-top-color: var(--fill-color);\n",
              "      border-right-color: var(--fill-color);\n",
              "    }\n",
              "    40% {\n",
              "      border-color: transparent;\n",
              "      border-right-color: var(--fill-color);\n",
              "      border-top-color: var(--fill-color);\n",
              "    }\n",
              "    60% {\n",
              "      border-color: transparent;\n",
              "      border-right-color: var(--fill-color);\n",
              "    }\n",
              "    80% {\n",
              "      border-color: transparent;\n",
              "      border-right-color: var(--fill-color);\n",
              "      border-bottom-color: var(--fill-color);\n",
              "    }\n",
              "    90% {\n",
              "      border-color: transparent;\n",
              "      border-bottom-color: var(--fill-color);\n",
              "    }\n",
              "  }\n",
              "</style>\n",
              "\n",
              "  <script>\n",
              "    async function quickchart(key) {\n",
              "      const quickchartButtonEl =\n",
              "        document.querySelector('#' + key + ' button');\n",
              "      quickchartButtonEl.disabled = true;  // To prevent multiple clicks.\n",
              "      quickchartButtonEl.classList.add('colab-df-spinner');\n",
              "      try {\n",
              "        const charts = await google.colab.kernel.invokeFunction(\n",
              "            'suggestCharts', [key], {});\n",
              "      } catch (error) {\n",
              "        console.error('Error during call to suggestCharts:', error);\n",
              "      }\n",
              "      quickchartButtonEl.classList.remove('colab-df-spinner');\n",
              "      quickchartButtonEl.classList.add('colab-df-quickchart-complete');\n",
              "    }\n",
              "    (() => {\n",
              "      let quickchartButtonEl =\n",
              "        document.querySelector('#df-b8d041c8-8b29-4a52-870a-e08534317219 button');\n",
              "      quickchartButtonEl.style.display =\n",
              "        google.colab.kernel.accessAllowed ? 'block' : 'none';\n",
              "    })();\n",
              "  </script>\n",
              "</div>\n",
              "    </div>\n",
              "  </div>\n"
            ]
          },
          "metadata": {},
          "execution_count": 3
        }
      ],
      "source": [
        "import pandas as pd # importing pandas for data manipulation\n",
        "\n",
        "df = pd.read_csv(\"reddit_metadata.csv\") # reading the csv file into a data frame\n",
        "\n",
        "df.info() # inspecting the data.\n",
        "df.head() # printing the first 5 rows of the data\n"
      ]
    },
    {
      "cell_type": "markdown",
      "source": [
        "The output of the previous cell shows that this dataset contains a total of 10 columns, with each column containing 878218 entries. However from the .info() code I notice that there are 8 columns with missing data.\n"
      ],
      "metadata": {
        "id": "K0FXupMDVldC"
      }
    },
    {
      "cell_type": "code",
      "source": [
        "df.isna().sum() # checking the sum of the missing values"
      ],
      "metadata": {
        "colab": {
          "base_uri": "https://localhost:8080/"
        },
        "id": "i8lZ5HFgR9lM",
        "outputId": "63ddb9fc-53d9-41ba-af50-213470a6de35"
      },
      "execution_count": null,
      "outputs": [
        {
          "output_type": "execute_result",
          "data": {
            "text/plain": [
              "ID                     0\n",
              "hasImage               0\n",
              "user_name_len     148746\n",
              "title_len          73840\n",
              "num_comments      242100\n",
              "subreddit              0\n",
              "upvote_ratio      242100\n",
              "score                  0\n",
              "upvote_ratio.1    242100\n",
              "2_way_label            0\n",
              "dtype: int64"
            ]
          },
          "metadata": {},
          "execution_count": 4
        }
      ]
    },
    {
      "cell_type": "markdown",
      "source": [
        "I used this function in order to check how many missing values that each column had. The output shows that there is quite a lot."
      ],
      "metadata": {
        "id": "I_oPfjOJK8lN"
      }
    },
    {
      "cell_type": "code",
      "source": [
        "# computing the means to fill missing values\n",
        "\n",
        "df['user_name_len'].mean() # getting the averages of the data to input into the missing values\n",
        "df['title_len'].mean()\n",
        "df['num_comments'].mean()\n",
        "df['upvote_ratio'].mean()\n",
        "df['upvote_ratio.1'].mean()\n",
        "df.subreddit.describe() # since it's a string I'm looking for the most popular subreddit\n",
        "df['score'].mean()\n",
        "df['2_way_label'].describe() # looking for the most frequent number which appears to be 0\n",
        "\n",
        "\n",
        "\n"
      ],
      "metadata": {
        "colab": {
          "base_uri": "https://localhost:8080/"
        },
        "id": "QjtlFKbwYahF",
        "outputId": "8b905a43-580a-4ba4-fffb-773e7cabd61c"
      },
      "execution_count": null,
      "outputs": [
        {
          "output_type": "execute_result",
          "data": {
            "text/plain": [
              "count    878218.000000\n",
              "mean          0.455961\n",
              "std           0.498057\n",
              "min           0.000000\n",
              "25%           0.000000\n",
              "50%           0.000000\n",
              "75%           1.000000\n",
              "max           1.000000\n",
              "Name: 2_way_label, dtype: float64"
            ]
          },
          "metadata": {},
          "execution_count": 5
        }
      ]
    },
    {
      "cell_type": "code",
      "source": [
        "# filling missing values with means\n",
        "\n",
        "df_imputed = df.fillna({\n",
        "    'user_name_len': 11,\n",
        "    'title_len': 50,\n",
        "    'num_comments': 18,\n",
        "    'upvote_ratio': 0.85,\n",
        "    'upvote_ratio.1': 0.85,\n",
        "    'subreddit': \"psbattle_artwork\", # filling with most frequent subreddit\n",
        "    'score': 316.0, # filling with mean score\n",
        "    '2_way_label': 0 # filling with most frequent value\n",
        "})"
      ],
      "metadata": {
        "id": "t9qIoYaAbKY1"
      },
      "execution_count": null,
      "outputs": []
    },
    {
      "cell_type": "markdown",
      "source": [
        "For the majority of the columns I filled in the missing values with the average as an attempt to not skew the data in any which way. However, for the subreddit column I filled the missing values with the most frequent subreddit. And, for the 2_way_label I filled it with 0 because it was the most frequent number."
      ],
      "metadata": {
        "id": "R4OP4aPkMa6f"
      }
    },
    {
      "cell_type": "code",
      "source": [
        "df_imputed.isna().sum() # checking the sum of the missing values"
      ],
      "metadata": {
        "colab": {
          "base_uri": "https://localhost:8080/"
        },
        "id": "gQtFEVXvcJ0a",
        "outputId": "384c1c17-42a7-4350-8a08-829cac064915"
      },
      "execution_count": null,
      "outputs": [
        {
          "output_type": "execute_result",
          "data": {
            "text/plain": [
              "ID                0\n",
              "hasImage          0\n",
              "user_name_len     0\n",
              "title_len         0\n",
              "num_comments      0\n",
              "subreddit         0\n",
              "upvote_ratio      0\n",
              "score             0\n",
              "upvote_ratio.1    0\n",
              "2_way_label       0\n",
              "dtype: int64"
            ]
          },
          "metadata": {},
          "execution_count": 8
        }
      ]
    },
    {
      "cell_type": "code",
      "source": [
        "df_imputed.describe() # using the describe function to investigate the numeric features"
      ],
      "metadata": {
        "colab": {
          "base_uri": "https://localhost:8080/",
          "height": 300
        },
        "id": "ufhUs6VbFu7t",
        "outputId": "81d4342c-816f-4544-e947-3e82241e3e0c"
      },
      "execution_count": null,
      "outputs": [
        {
          "output_type": "execute_result",
          "data": {
            "text/plain": [
              "                  ID  user_name_len      title_len   num_comments  \\\n",
              "count  878218.000000  878218.000000  878218.000000  878218.000000   \n",
              "mean   439108.500000      11.230800      50.179690      17.918180   \n",
              "std    253519.843691       3.310464      34.098774     105.596018   \n",
              "min         0.000000       3.000000       1.000000       0.000000   \n",
              "25%    219554.250000       9.000000      27.000000       1.000000   \n",
              "50%    439108.500000      11.000000      48.000000       5.000000   \n",
              "75%    658662.750000      14.000000      64.000000      18.000000   \n",
              "max    878217.000000      20.000000    2904.000000   10783.000000   \n",
              "\n",
              "        upvote_ratio          score  upvote_ratio.1    2_way_label  \n",
              "count  878218.000000  878218.000000   878218.000000  878218.000000  \n",
              "mean        0.852583     312.269706        0.852583       0.455961  \n",
              "std         0.099419    2621.030757        0.099419       0.498057  \n",
              "min         0.500000    -950.000000        0.500000       0.000000  \n",
              "25%         0.810000       3.000000        0.810000       0.000000  \n",
              "50%         0.850000      10.000000        0.850000       0.000000  \n",
              "75%         0.920000      34.000000        0.920000       1.000000  \n",
              "max         1.000000  137179.000000        1.000000       1.000000  "
            ],
            "text/html": [
              "\n",
              "  <div id=\"df-810e7184-f3d4-4954-bed2-83e3757179de\" class=\"colab-df-container\">\n",
              "    <div>\n",
              "<style scoped>\n",
              "    .dataframe tbody tr th:only-of-type {\n",
              "        vertical-align: middle;\n",
              "    }\n",
              "\n",
              "    .dataframe tbody tr th {\n",
              "        vertical-align: top;\n",
              "    }\n",
              "\n",
              "    .dataframe thead th {\n",
              "        text-align: right;\n",
              "    }\n",
              "</style>\n",
              "<table border=\"1\" class=\"dataframe\">\n",
              "  <thead>\n",
              "    <tr style=\"text-align: right;\">\n",
              "      <th></th>\n",
              "      <th>ID</th>\n",
              "      <th>user_name_len</th>\n",
              "      <th>title_len</th>\n",
              "      <th>num_comments</th>\n",
              "      <th>upvote_ratio</th>\n",
              "      <th>score</th>\n",
              "      <th>upvote_ratio.1</th>\n",
              "      <th>2_way_label</th>\n",
              "    </tr>\n",
              "  </thead>\n",
              "  <tbody>\n",
              "    <tr>\n",
              "      <th>count</th>\n",
              "      <td>878218.000000</td>\n",
              "      <td>878218.000000</td>\n",
              "      <td>878218.000000</td>\n",
              "      <td>878218.000000</td>\n",
              "      <td>878218.000000</td>\n",
              "      <td>878218.000000</td>\n",
              "      <td>878218.000000</td>\n",
              "      <td>878218.000000</td>\n",
              "    </tr>\n",
              "    <tr>\n",
              "      <th>mean</th>\n",
              "      <td>439108.500000</td>\n",
              "      <td>11.230800</td>\n",
              "      <td>50.179690</td>\n",
              "      <td>17.918180</td>\n",
              "      <td>0.852583</td>\n",
              "      <td>312.269706</td>\n",
              "      <td>0.852583</td>\n",
              "      <td>0.455961</td>\n",
              "    </tr>\n",
              "    <tr>\n",
              "      <th>std</th>\n",
              "      <td>253519.843691</td>\n",
              "      <td>3.310464</td>\n",
              "      <td>34.098774</td>\n",
              "      <td>105.596018</td>\n",
              "      <td>0.099419</td>\n",
              "      <td>2621.030757</td>\n",
              "      <td>0.099419</td>\n",
              "      <td>0.498057</td>\n",
              "    </tr>\n",
              "    <tr>\n",
              "      <th>min</th>\n",
              "      <td>0.000000</td>\n",
              "      <td>3.000000</td>\n",
              "      <td>1.000000</td>\n",
              "      <td>0.000000</td>\n",
              "      <td>0.500000</td>\n",
              "      <td>-950.000000</td>\n",
              "      <td>0.500000</td>\n",
              "      <td>0.000000</td>\n",
              "    </tr>\n",
              "    <tr>\n",
              "      <th>25%</th>\n",
              "      <td>219554.250000</td>\n",
              "      <td>9.000000</td>\n",
              "      <td>27.000000</td>\n",
              "      <td>1.000000</td>\n",
              "      <td>0.810000</td>\n",
              "      <td>3.000000</td>\n",
              "      <td>0.810000</td>\n",
              "      <td>0.000000</td>\n",
              "    </tr>\n",
              "    <tr>\n",
              "      <th>50%</th>\n",
              "      <td>439108.500000</td>\n",
              "      <td>11.000000</td>\n",
              "      <td>48.000000</td>\n",
              "      <td>5.000000</td>\n",
              "      <td>0.850000</td>\n",
              "      <td>10.000000</td>\n",
              "      <td>0.850000</td>\n",
              "      <td>0.000000</td>\n",
              "    </tr>\n",
              "    <tr>\n",
              "      <th>75%</th>\n",
              "      <td>658662.750000</td>\n",
              "      <td>14.000000</td>\n",
              "      <td>64.000000</td>\n",
              "      <td>18.000000</td>\n",
              "      <td>0.920000</td>\n",
              "      <td>34.000000</td>\n",
              "      <td>0.920000</td>\n",
              "      <td>1.000000</td>\n",
              "    </tr>\n",
              "    <tr>\n",
              "      <th>max</th>\n",
              "      <td>878217.000000</td>\n",
              "      <td>20.000000</td>\n",
              "      <td>2904.000000</td>\n",
              "      <td>10783.000000</td>\n",
              "      <td>1.000000</td>\n",
              "      <td>137179.000000</td>\n",
              "      <td>1.000000</td>\n",
              "      <td>1.000000</td>\n",
              "    </tr>\n",
              "  </tbody>\n",
              "</table>\n",
              "</div>\n",
              "    <div class=\"colab-df-buttons\">\n",
              "\n",
              "  <div class=\"colab-df-container\">\n",
              "    <button class=\"colab-df-convert\" onclick=\"convertToInteractive('df-810e7184-f3d4-4954-bed2-83e3757179de')\"\n",
              "            title=\"Convert this dataframe to an interactive table.\"\n",
              "            style=\"display:none;\">\n",
              "\n",
              "  <svg xmlns=\"http://www.w3.org/2000/svg\" height=\"24px\" viewBox=\"0 -960 960 960\">\n",
              "    <path d=\"M120-120v-720h720v720H120Zm60-500h600v-160H180v160Zm220 220h160v-160H400v160Zm0 220h160v-160H400v160ZM180-400h160v-160H180v160Zm440 0h160v-160H620v160ZM180-180h160v-160H180v160Zm440 0h160v-160H620v160Z\"/>\n",
              "  </svg>\n",
              "    </button>\n",
              "\n",
              "  <style>\n",
              "    .colab-df-container {\n",
              "      display:flex;\n",
              "      gap: 12px;\n",
              "    }\n",
              "\n",
              "    .colab-df-convert {\n",
              "      background-color: #E8F0FE;\n",
              "      border: none;\n",
              "      border-radius: 50%;\n",
              "      cursor: pointer;\n",
              "      display: none;\n",
              "      fill: #1967D2;\n",
              "      height: 32px;\n",
              "      padding: 0 0 0 0;\n",
              "      width: 32px;\n",
              "    }\n",
              "\n",
              "    .colab-df-convert:hover {\n",
              "      background-color: #E2EBFA;\n",
              "      box-shadow: 0px 1px 2px rgba(60, 64, 67, 0.3), 0px 1px 3px 1px rgba(60, 64, 67, 0.15);\n",
              "      fill: #174EA6;\n",
              "    }\n",
              "\n",
              "    .colab-df-buttons div {\n",
              "      margin-bottom: 4px;\n",
              "    }\n",
              "\n",
              "    [theme=dark] .colab-df-convert {\n",
              "      background-color: #3B4455;\n",
              "      fill: #D2E3FC;\n",
              "    }\n",
              "\n",
              "    [theme=dark] .colab-df-convert:hover {\n",
              "      background-color: #434B5C;\n",
              "      box-shadow: 0px 1px 3px 1px rgba(0, 0, 0, 0.15);\n",
              "      filter: drop-shadow(0px 1px 2px rgba(0, 0, 0, 0.3));\n",
              "      fill: #FFFFFF;\n",
              "    }\n",
              "  </style>\n",
              "\n",
              "    <script>\n",
              "      const buttonEl =\n",
              "        document.querySelector('#df-810e7184-f3d4-4954-bed2-83e3757179de button.colab-df-convert');\n",
              "      buttonEl.style.display =\n",
              "        google.colab.kernel.accessAllowed ? 'block' : 'none';\n",
              "\n",
              "      async function convertToInteractive(key) {\n",
              "        const element = document.querySelector('#df-810e7184-f3d4-4954-bed2-83e3757179de');\n",
              "        const dataTable =\n",
              "          await google.colab.kernel.invokeFunction('convertToInteractive',\n",
              "                                                    [key], {});\n",
              "        if (!dataTable) return;\n",
              "\n",
              "        const docLinkHtml = 'Like what you see? Visit the ' +\n",
              "          '<a target=\"_blank\" href=https://colab.research.google.com/notebooks/data_table.ipynb>data table notebook</a>'\n",
              "          + ' to learn more about interactive tables.';\n",
              "        element.innerHTML = '';\n",
              "        dataTable['output_type'] = 'display_data';\n",
              "        await google.colab.output.renderOutput(dataTable, element);\n",
              "        const docLink = document.createElement('div');\n",
              "        docLink.innerHTML = docLinkHtml;\n",
              "        element.appendChild(docLink);\n",
              "      }\n",
              "    </script>\n",
              "  </div>\n",
              "\n",
              "\n",
              "<div id=\"df-45804b54-8d15-4774-ac69-47a80adc58c0\">\n",
              "  <button class=\"colab-df-quickchart\" onclick=\"quickchart('df-45804b54-8d15-4774-ac69-47a80adc58c0')\"\n",
              "            title=\"Suggest charts.\"\n",
              "            style=\"display:none;\">\n",
              "\n",
              "<svg xmlns=\"http://www.w3.org/2000/svg\" height=\"24px\"viewBox=\"0 0 24 24\"\n",
              "     width=\"24px\">\n",
              "    <g>\n",
              "        <path d=\"M19 3H5c-1.1 0-2 .9-2 2v14c0 1.1.9 2 2 2h14c1.1 0 2-.9 2-2V5c0-1.1-.9-2-2-2zM9 17H7v-7h2v7zm4 0h-2V7h2v10zm4 0h-2v-4h2v4z\"/>\n",
              "    </g>\n",
              "</svg>\n",
              "  </button>\n",
              "\n",
              "<style>\n",
              "  .colab-df-quickchart {\n",
              "      --bg-color: #E8F0FE;\n",
              "      --fill-color: #1967D2;\n",
              "      --hover-bg-color: #E2EBFA;\n",
              "      --hover-fill-color: #174EA6;\n",
              "      --disabled-fill-color: #AAA;\n",
              "      --disabled-bg-color: #DDD;\n",
              "  }\n",
              "\n",
              "  [theme=dark] .colab-df-quickchart {\n",
              "      --bg-color: #3B4455;\n",
              "      --fill-color: #D2E3FC;\n",
              "      --hover-bg-color: #434B5C;\n",
              "      --hover-fill-color: #FFFFFF;\n",
              "      --disabled-bg-color: #3B4455;\n",
              "      --disabled-fill-color: #666;\n",
              "  }\n",
              "\n",
              "  .colab-df-quickchart {\n",
              "    background-color: var(--bg-color);\n",
              "    border: none;\n",
              "    border-radius: 50%;\n",
              "    cursor: pointer;\n",
              "    display: none;\n",
              "    fill: var(--fill-color);\n",
              "    height: 32px;\n",
              "    padding: 0;\n",
              "    width: 32px;\n",
              "  }\n",
              "\n",
              "  .colab-df-quickchart:hover {\n",
              "    background-color: var(--hover-bg-color);\n",
              "    box-shadow: 0 1px 2px rgba(60, 64, 67, 0.3), 0 1px 3px 1px rgba(60, 64, 67, 0.15);\n",
              "    fill: var(--button-hover-fill-color);\n",
              "  }\n",
              "\n",
              "  .colab-df-quickchart-complete:disabled,\n",
              "  .colab-df-quickchart-complete:disabled:hover {\n",
              "    background-color: var(--disabled-bg-color);\n",
              "    fill: var(--disabled-fill-color);\n",
              "    box-shadow: none;\n",
              "  }\n",
              "\n",
              "  .colab-df-spinner {\n",
              "    border: 2px solid var(--fill-color);\n",
              "    border-color: transparent;\n",
              "    border-bottom-color: var(--fill-color);\n",
              "    animation:\n",
              "      spin 1s steps(1) infinite;\n",
              "  }\n",
              "\n",
              "  @keyframes spin {\n",
              "    0% {\n",
              "      border-color: transparent;\n",
              "      border-bottom-color: var(--fill-color);\n",
              "      border-left-color: var(--fill-color);\n",
              "    }\n",
              "    20% {\n",
              "      border-color: transparent;\n",
              "      border-left-color: var(--fill-color);\n",
              "      border-top-color: var(--fill-color);\n",
              "    }\n",
              "    30% {\n",
              "      border-color: transparent;\n",
              "      border-left-color: var(--fill-color);\n",
              "      border-top-color: var(--fill-color);\n",
              "      border-right-color: var(--fill-color);\n",
              "    }\n",
              "    40% {\n",
              "      border-color: transparent;\n",
              "      border-right-color: var(--fill-color);\n",
              "      border-top-color: var(--fill-color);\n",
              "    }\n",
              "    60% {\n",
              "      border-color: transparent;\n",
              "      border-right-color: var(--fill-color);\n",
              "    }\n",
              "    80% {\n",
              "      border-color: transparent;\n",
              "      border-right-color: var(--fill-color);\n",
              "      border-bottom-color: var(--fill-color);\n",
              "    }\n",
              "    90% {\n",
              "      border-color: transparent;\n",
              "      border-bottom-color: var(--fill-color);\n",
              "    }\n",
              "  }\n",
              "</style>\n",
              "\n",
              "  <script>\n",
              "    async function quickchart(key) {\n",
              "      const quickchartButtonEl =\n",
              "        document.querySelector('#' + key + ' button');\n",
              "      quickchartButtonEl.disabled = true;  // To prevent multiple clicks.\n",
              "      quickchartButtonEl.classList.add('colab-df-spinner');\n",
              "      try {\n",
              "        const charts = await google.colab.kernel.invokeFunction(\n",
              "            'suggestCharts', [key], {});\n",
              "      } catch (error) {\n",
              "        console.error('Error during call to suggestCharts:', error);\n",
              "      }\n",
              "      quickchartButtonEl.classList.remove('colab-df-spinner');\n",
              "      quickchartButtonEl.classList.add('colab-df-quickchart-complete');\n",
              "    }\n",
              "    (() => {\n",
              "      let quickchartButtonEl =\n",
              "        document.querySelector('#df-45804b54-8d15-4774-ac69-47a80adc58c0 button');\n",
              "      quickchartButtonEl.style.display =\n",
              "        google.colab.kernel.accessAllowed ? 'block' : 'none';\n",
              "    })();\n",
              "  </script>\n",
              "</div>\n",
              "    </div>\n",
              "  </div>\n"
            ]
          },
          "metadata": {},
          "execution_count": 9
        }
      ]
    },
    {
      "cell_type": "markdown",
      "source": [
        "Using the above function to search for any outliers. As is, I notice that that the title length has a max value of 2904 which seems extremely long and out of place to me. A quick Google search has shown me that the maximum character limit of a Reddit Title is 300 characters. Thus my next course of action will be to print the outliers that have a title length of greater than 300. Everything else seems like it should be possible on Reddit."
      ],
      "metadata": {
        "id": "urIDabJ-GfYN"
      }
    },
    {
      "cell_type": "code",
      "source": [
        "# data preprocessing\n",
        "\n",
        "df_imputed.loc[df_imputed['title_len']>300].index # printing the index of the outliers\n",
        "\n",
        "df_imputed_outliers_removed = df_imputed.drop(df_imputed.loc[df_imputed['title_len'] > 300].index) # dropping the outliers\n",
        "\n",
        "df_imputed_outliers_removed.title_len.describe() # using the describe function to investigate the numeric features\n"
      ],
      "metadata": {
        "colab": {
          "base_uri": "https://localhost:8080/"
        },
        "id": "ugeXT9TSHVGU",
        "outputId": "f90d2144-d321-46b7-eb2f-6718998326fa"
      },
      "execution_count": null,
      "outputs": [
        {
          "output_type": "execute_result",
          "data": {
            "text/plain": [
              "count    878184.000000\n",
              "mean         50.158313\n",
              "std          33.772792\n",
              "min           1.000000\n",
              "25%          27.000000\n",
              "50%          48.000000\n",
              "75%          64.000000\n",
              "max         300.000000\n",
              "Name: title_len, dtype: float64"
            ]
          },
          "metadata": {},
          "execution_count": 44
        }
      ]
    },
    {
      "cell_type": "markdown",
      "source": [
        "In the above cell I printed out the title outliers as I was curious and wanted to see how many there were. After I ran a function to drop all numeric values greater than 300. And, assigned that value to a new variable to keep track of my data cleaning process.\n",
        "After that I just double checked to make sure that everythign was progressing as it should and that max value for title_len did not exceed 300."
      ],
      "metadata": {
        "id": "3PlSrdUbNecM"
      }
    },
    {
      "cell_type": "code",
      "source": [
        "df_imputed_outliers_removed['new_subreddit'] = df_imputed_outliers_removed.subreddit.astype('category').cat.codes # converting subreddit into a int data type and placing and new column\n",
        "df_imputed_outliers_removed.info() # checking that the new_subreddit has been created and that it's data type is an int"
      ],
      "metadata": {
        "colab": {
          "base_uri": "https://localhost:8080/"
        },
        "id": "ZKz1oJViRPAD",
        "outputId": "602d7998-9d89-43ad-fbf7-db8ef9946e59"
      },
      "execution_count": null,
      "outputs": [
        {
          "output_type": "stream",
          "name": "stdout",
          "text": [
            "<class 'pandas.core.frame.DataFrame'>\n",
            "Int64Index: 878184 entries, 0 to 878217\n",
            "Data columns (total 11 columns):\n",
            " #   Column          Non-Null Count   Dtype  \n",
            "---  ------          --------------   -----  \n",
            " 0   ID              878184 non-null  int64  \n",
            " 1   hasImage        878184 non-null  bool   \n",
            " 2   user_name_len   878184 non-null  float64\n",
            " 3   title_len       878184 non-null  float64\n",
            " 4   num_comments    878184 non-null  float64\n",
            " 5   subreddit       878184 non-null  object \n",
            " 6   upvote_ratio    878184 non-null  float64\n",
            " 7   score           878184 non-null  int64  \n",
            " 8   upvote_ratio.1  878184 non-null  float64\n",
            " 9   2_way_label     878184 non-null  int64  \n",
            " 10  new_subreddit   878184 non-null  int8   \n",
            "dtypes: bool(1), float64(5), int64(3), int8(1), object(1)\n",
            "memory usage: 68.7+ MB\n"
          ]
        }
      ]
    },
    {
      "cell_type": "markdown",
      "source": [
        "In this cell I converted the subreddit data type from an object to an int and placed it within a new column value to be used in the future when I create a histogram."
      ],
      "metadata": {
        "id": "Azfe37iZVI-F"
      }
    },
    {
      "cell_type": "code",
      "source": [
        "# exploratory data analysis\n",
        "\n",
        "df_numeric_attributes_only = df_imputed_outliers_removed.select_dtypes(include='number') # get columns that are numeric to get rid of error\n",
        "feature_correlation = df_numeric_attributes_only.corr() # calculating the correlation\n",
        "\n",
        "from matplotlib import pyplot as plt # importing matplotlib package to adjust figure size for better visual\n",
        "plt.figure(figsize=(11,11))\n",
        "\n",
        "# Visualizing correlations\n",
        "\n",
        "import seaborn as sns\n",
        "sns.heatmap(feature_correlation, annot=True) # creating a correlation heatmap for the `df_imputed_outliers_removed` dataframe\n"
      ],
      "metadata": {
        "colab": {
          "base_uri": "https://localhost:8080/",
          "height": 1000
        },
        "id": "yYSb3nS9J-Gw",
        "outputId": "3daae451-10a5-4414-e53c-e34d0796e129"
      },
      "execution_count": null,
      "outputs": [
        {
          "output_type": "execute_result",
          "data": {
            "text/plain": [
              "<Axes: >"
            ]
          },
          "metadata": {},
          "execution_count": 49
        },
        {
          "output_type": "display_data",
          "data": {
            "text/plain": [
              "<Figure size 1100x1100 with 2 Axes>"
            ],
            "image/png": "[encoded data removed]"
          },
          "metadata": {}
        }
      ]
    },
    {
      "cell_type": "markdown",
      "source": [
        "The positive correlation observed between the number of comments on a post and its score suggests a strong association between these two variables. This correlation implies that posts with a higher number of comments tend to receive higher scores, and conversely, posts with lower comment counts may have lower scores.\n",
        "\n",
        "This positive correlation between comments and score may indicate that user engagement, as measured by the number of comments, positively influences the overall popularity or perceived quality of a post. Conversely, posts that attract fewer comments may be perceived as less engaging or interesting by users, resulting in lower scores.\n",
        "\n",
        "Furthermore, the negative correlation observed between the '2_way_label' column and attributes such as 'username_length' and 'upvote_ratio' is also noteworthy. This negative correlation suggests an inverse relationship between these variables, indicating that as one variable increases, the other tends to decrease, and vice versa.\n",
        "\n",
        "For example, a negative correlation between '2_way_label' and 'username_length' may indicate that posts authored by users with shorter usernames are more likely to be labeled in a certain way (e.g., as fake news) compared to posts authored by users with longer usernames. Similarly, a negative correlation between '2_way_label' and 'upvote_ratio' may suggest that posts with higher upvote ratios are less likely to be labeled in a certain way, while posts with lower upvote ratios may be more prone to such labeling."
      ],
      "metadata": {
        "id": "Qi-FESW3X4mD"
      }
    },
    {
      "cell_type": "code",
      "source": [
        "# scatter plot\n",
        "\n",
        "df_imputed_outliers_removed.plot.scatter(y='num_comments', x='score', c='Pink') # scatter plot inspecting the relationship between num_comments and score\n"
      ],
      "metadata": {
        "colab": {
          "base_uri": "https://localhost:8080/",
          "height": 467
        },
        "id": "HbeJ9X1BQMMd",
        "outputId": "b4b44a52-72ea-4907-8875-311c72193513"
      },
      "execution_count": null,
      "outputs": [
        {
          "output_type": "execute_result",
          "data": {
            "text/plain": [
              "<Axes: xlabel='score', ylabel='num_comments'>"
            ]
          },
          "metadata": {},
          "execution_count": 54
        },
        {
          "output_type": "display_data",
          "data": {
            "text/plain": [
              "<Figure size 640x480 with 1 Axes>"
            ],
            "image/png": "[encoded data removed]"
          },
          "metadata": {}
        }
      ]
    },
    {
      "cell_type": "markdown",
      "source": [
        "This scatter plot does not show what I was expecting to see. Given the the positive correlation between the number of comments and upvote scoot I expected the data to be more linearly distributed. Instead the data points appear highly biased with a low variance."
      ],
      "metadata": {
        "id": "AAkXcgx9elmY"
      }
    },
    {
      "cell_type": "code",
      "source": [
        "# bar chart\n",
        "\n",
        "df_imputed_outliers_removed.subreddit.value_counts().plot(kind='bar') # creating a bar chart based on the subreddit column"
      ],
      "metadata": {
        "colab": {
          "base_uri": "https://localhost:8080/",
          "height": 599
        },
        "id": "Ki1HfgP3OuzA",
        "outputId": "86ba1ad5-6929-4f2f-80f8-a4581fdfa723"
      },
      "execution_count": null,
      "outputs": [
        {
          "output_type": "execute_result",
          "data": {
            "text/plain": [
              "<Axes: >"
            ]
          },
          "metadata": {},
          "execution_count": 56
        },
        {
          "output_type": "display_data",
          "data": {
            "text/plain": [
              "<Figure size 640x480 with 1 Axes>"
            ],
            "image/png": "[encoded data removed]"
          },
          "metadata": {}
        }
      ]
    },
    {
      "cell_type": "markdown",
      "source": [
        "The bar chart clears shows that the most popular subreddit is called psbattle_artwork with the least popular being waterfordwhispersnews."
      ],
      "metadata": {
        "id": "pjZMz9AzhRKG"
      }
    },
    {
      "cell_type": "code",
      "source": [
        "# model training and evaluation\n",
        "\n",
        "from sklearn.linear_model import LogisticRegression # importing the logistic regression model\n",
        "from sklearn.model_selection import train_test_split # importing the train test split function to split question bank into training and testing\n",
        "\n",
        "training_df, testing_df = train_test_split(df_imputed_outliers_removed, test_size=0.2) # the testing size has been split to use 20% of the data\n",
        "\n",
        "training_df.shape"
      ],
      "metadata": {
        "colab": {
          "base_uri": "https://localhost:8080/"
        },
        "id": "Hd-geGOwanzz",
        "outputId": "17d59f89-a63c-46f2-e215-42c38337bc09"
      },
      "execution_count": null,
      "outputs": [
        {
          "output_type": "execute_result",
          "data": {
            "text/plain": [
              "(702547, 11)"
            ]
          },
          "metadata": {},
          "execution_count": 67
        }
      ]
    },
    {
      "cell_type": "markdown",
      "source": [
        "In this cell I am splitting the data into two sets. One for training and one for testing, of which I have set aside 20% of the data for this reason. The last code I did in this cell is just to see how much data will be used."
      ],
      "metadata": {
        "id": "b_VHawjfi-g4"
      }
    },
    {
      "cell_type": "code",
      "source": [
        "testing_df.shape # checking the amount of data going towards the testing set"
      ],
      "metadata": {
        "colab": {
          "base_uri": "https://localhost:8080/"
        },
        "id": "QIvEYXTfbQSX",
        "outputId": "c08c00b3-7c86-4d4b-ccc8-df74e4249d01"
      },
      "execution_count": null,
      "outputs": [
        {
          "output_type": "execute_result",
          "data": {
            "text/plain": [
              "(175637, 10)"
            ]
          },
          "metadata": {},
          "execution_count": 59
        }
      ]
    },
    {
      "cell_type": "markdown",
      "source": [
        "The testing data is less than the training data which makes sense and is what I am aiming for."
      ],
      "metadata": {
        "id": "Cw7gmEjGjW81"
      }
    },
    {
      "cell_type": "code",
      "source": [
        "\n",
        "training_features = training_df[['new_subreddit']] # training the data using only one feature, new_subreddit\n",
        "training_target = training_df['2_way_label'] # 2_way_label is our target attribute\n",
        "\n",
        "testing_features = testing_df[['new_subreddit']] # testing the data using one feature\n",
        "testing_target = testing_df['2_way_label']\n",
        "\n",
        "print('data for training', training_features.shape, training_target.shape)\n",
        "print('data for testing', testing_features.shape, testing_target.shape) # to further verify that the data was selected correctly"
      ],
      "metadata": {
        "colab": {
          "base_uri": "https://localhost:8080/"
        },
        "id": "NJ3F0XC2bXVt",
        "outputId": "aadc3570-48bd-41bd-bd79-254ffa3bb797"
      },
      "execution_count": null,
      "outputs": [
        {
          "output_type": "stream",
          "name": "stdout",
          "text": [
            "data for training (702547, 1) (702547,)\n",
            "data for testing (175637, 1) (175637,)\n"
          ]
        }
      ]
    },
    {
      "cell_type": "markdown",
      "source": [
        "In this coding block I used the hold out method to train the data based on the new_subreddit feature with target attribute being 2_way_label. I then verified that the data is correct and the results of this is that it shows that it shows that both the training and testing have taking the appropriate number of samples to be used with the one feature identified.\n",
        "\n"
      ],
      "metadata": {
        "id": "E32XlAlqmG6P"
      }
    },
    {
      "cell_type": "code",
      "source": [
        "model = LogisticRegression() # assigning the logistic regression model to variable model"
      ],
      "metadata": {
        "id": "xO9AQcineaHj"
      },
      "execution_count": null,
      "outputs": []
    },
    {
      "cell_type": "code",
      "source": [
        "model.fit(training_features, training_target) # using the fit function to train the model with training features and training target as argument"
      ],
      "metadata": {
        "colab": {
          "base_uri": "https://localhost:8080/",
          "height": 75
        },
        "id": "sgGvHx9QeoHw",
        "outputId": "62bcbf45-88ee-4917-ade7-0c82cdeb2f44"
      },
      "execution_count": null,
      "outputs": [
        {
          "output_type": "execute_result",
          "data": {
            "text/plain": [
              "LogisticRegression()"
            ],
            "text/html": [
              "<style>#sk-container-id-2 {color: black;background-color: white;}#sk-container-id-2 pre{padding: 0;}#sk-container-id-2 div.sk-toggleable {background-color: white;}#sk-container-id-2 label.sk-toggleable__label {cursor: pointer;display: block;width: 100%;margin-bottom: 0;padding: 0.3em;box-sizing: border-box;text-align: center;}#sk-container-id-2 label.sk-toggleable__label-arrow:before {content: \"▸\";float: left;margin-right: 0.25em;color: #696969;}#sk-container-id-2 label.sk-toggleable__label-arrow:hover:before {color: black;}#sk-container-id-2 div.sk-estimator:hover label.sk-toggleable__label-arrow:before {color: black;}#sk-container-id-2 div.sk-toggleable__content {max-height: 0;max-width: 0;overflow: hidden;text-align: left;background-color: #f0f8ff;}#sk-container-id-2 div.sk-toggleable__content pre {margin: 0.2em;color: black;border-radius: 0.25em;background-color: #f0f8ff;}#sk-container-id-2 input.sk-toggleable__control:checked~div.sk-toggleable__content {max-height: 200px;max-width: 100%;overflow: auto;}#sk-container-id-2 input.sk-toggleable__control:checked~label.sk-toggleable__label-arrow:before {content: \"▾\";}#sk-container-id-2 div.sk-estimator input.sk-toggleable__control:checked~label.sk-toggleable__label {background-color: #d4ebff;}#sk-container-id-2 div.sk-label input.sk-toggleable__control:checked~label.sk-toggleable__label {background-color: #d4ebff;}#sk-container-id-2 input.sk-hidden--visually {border: 0;clip: rect(1px 1px 1px 1px);clip: rect(1px, 1px, 1px, 1px);height: 1px;margin: -1px;overflow: hidden;padding: 0;position: absolute;width: 1px;}#sk-container-id-2 div.sk-estimator {font-family: monospace;background-color: #f0f8ff;border: 1px dotted black;border-radius: 0.25em;box-sizing: border-box;margin-bottom: 0.5em;}#sk-container-id-2 div.sk-estimator:hover {background-color: #d4ebff;}#sk-container-id-2 div.sk-parallel-item::after {content: \"\";width: 100%;border-bottom: 1px solid gray;flex-grow: 1;}#sk-container-id-2 div.sk-label:hover label.sk-toggleable__label {background-color: #d4ebff;}#sk-container-id-2 div.sk-serial::before {content: \"\";position: absolute;border-left: 1px solid gray;box-sizing: border-box;top: 0;bottom: 0;left: 50%;z-index: 0;}#sk-container-id-2 div.sk-serial {display: flex;flex-direction: column;align-items: center;background-color: white;padding-right: 0.2em;padding-left: 0.2em;position: relative;}#sk-container-id-2 div.sk-item {position: relative;z-index: 1;}#sk-container-id-2 div.sk-parallel {display: flex;align-items: stretch;justify-content: center;background-color: white;position: relative;}#sk-container-id-2 div.sk-item::before, #sk-container-id-2 div.sk-parallel-item::before {content: \"\";position: absolute;border-left: 1px solid gray;box-sizing: border-box;top: 0;bottom: 0;left: 50%;z-index: -1;}#sk-container-id-2 div.sk-parallel-item {display: flex;flex-direction: column;z-index: 1;position: relative;background-color: white;}#sk-container-id-2 div.sk-parallel-item:first-child::after {align-self: flex-end;width: 50%;}#sk-container-id-2 div.sk-parallel-item:last-child::after {align-self: flex-start;width: 50%;}#sk-container-id-2 div.sk-parallel-item:only-child::after {width: 0;}#sk-container-id-2 div.sk-dashed-wrapped {border: 1px dashed gray;margin: 0 0.4em 0.5em 0.4em;box-sizing: border-box;padding-bottom: 0.4em;background-color: white;}#sk-container-id-2 div.sk-label label {font-family: monospace;font-weight: bold;display: inline-block;line-height: 1.2em;}#sk-container-id-2 div.sk-label-container {text-align: center;}#sk-container-id-2 div.sk-container {/* jupyter's `normalize.less` sets `[hidden] { display: none; }` but bootstrap.min.css set `[hidden] { display: none !important; }` so we also need the `!important` here to be able to override the default hidden behavior on the sphinx rendered scikit-learn.org. See: https://github.com/scikit-learn/scikit-learn/issues/21755 */display: inline-block !important;position: relative;}#sk-container-id-2 div.sk-text-repr-fallback {display: none;}</style><div id=\"sk-container-id-2\" class=\"sk-top-container\"><div class=\"sk-text-repr-fallback\"><pre>LogisticRegression()</pre><b>In a Jupyter environment, please rerun this cell to show the HTML representation or trust the notebook. <br />On GitHub, the HTML representation is unable to render, please try loading this page with nbviewer.org.</b></div><div class=\"sk-container\" hidden><div class=\"sk-item\"><div class=\"sk-estimator sk-toggleable\"><input class=\"sk-toggleable__control sk-hidden--visually\" id=\"sk-estimator-id-2\" type=\"checkbox\" checked><label for=\"sk-estimator-id-2\" class=\"sk-toggleable__label sk-toggleable__label-arrow\">LogisticRegression</label><div class=\"sk-toggleable__content\"><pre>LogisticRegression()</pre></div></div></div></div></div>"
            ]
          },
          "metadata": {},
          "execution_count": 71
        }
      ]
    },
    {
      "cell_type": "markdown",
      "source": [
        "No need to add additional information such as solver or max_iteration to logistic regression model. The output for the above cell block produces no erros and uses the training_freatures and training_target as parameters within the fit function."
      ],
      "metadata": {
        "id": "5StQ-yzCnq6I"
      }
    },
    {
      "cell_type": "code",
      "source": [
        "from sklearn.metrics import accuracy_score # importing accuracy_score function from sklearn.metrics\n",
        "\n",
        "predictions = model.predict(testing_features) # assigning the predictions variable to the results of the testing features prediction\n",
        "predictions[:30] # printing the first 30 numbers of the prediction"
      ],
      "metadata": {
        "colab": {
          "base_uri": "https://localhost:8080/"
        },
        "id": "7v0XLaZmfKUc",
        "outputId": "f84eba89-1449-4dd0-c05c-bca520eb63c1"
      },
      "execution_count": null,
      "outputs": [
        {
          "output_type": "execute_result",
          "data": {
            "text/plain": [
              "array([0, 0, 0, 0, 0, 0, 0, 0, 0, 0, 0, 0, 0, 0, 0, 0, 0, 0, 0, 0, 0, 0,\n",
              "       0, 0, 0, 0, 0, 0, 1, 0])"
            ]
          },
          "metadata": {},
          "execution_count": 81
        }
      ]
    },
    {
      "cell_type": "code",
      "source": [
        "accuracy_score(testing_target, predictions) # checking the accuracy of the testing target on prediction."
      ],
      "metadata": {
        "colab": {
          "base_uri": "https://localhost:8080/"
        },
        "id": "qYPjwzjYfNZ_",
        "outputId": "28152a33-7da1-4eee-bc0f-6be9f4096b0e"
      },
      "execution_count": null,
      "outputs": [
        {
          "output_type": "execute_result",
          "data": {
            "text/plain": [
              "0.5590507694847896"
            ]
          },
          "metadata": {},
          "execution_count": 77
        }
      ]
    },
    {
      "cell_type": "markdown",
      "source": [
        "The accuracy score is 55%. Which is relatively good considering it's more than halfway accurate."
      ],
      "metadata": {
        "id": "27Yfkv9op4Mr"
      }
    },
    {
      "cell_type": "code",
      "source": [
        "predictions = model.predict(training_features) # assigning the predictions variable to the results of the training features prediction\n",
        "predictions[:10] # printing the first 1- numbers of the prediction"
      ],
      "metadata": {
        "colab": {
          "base_uri": "https://localhost:8080/"
        },
        "id": "vrxuB-N3gYJN",
        "outputId": "d650db56-ba16-4e81-dc8f-faa981442ef3"
      },
      "execution_count": null,
      "outputs": [
        {
          "output_type": "execute_result",
          "data": {
            "text/plain": [
              "array([0, 0, 0, 0, 0, 0, 0, 1, 0, 1])"
            ]
          },
          "metadata": {},
          "execution_count": 75
        }
      ]
    },
    {
      "cell_type": "markdown",
      "source": [
        "Compared to the testing data the results of the training features gave the result of 1 much sooner.\n"
      ],
      "metadata": {
        "id": "1NyM3pNwp4yf"
      }
    },
    {
      "cell_type": "code",
      "source": [
        "accuracy_score(training_target, predictions) # checking the accuracy of the training target on prediction."
      ],
      "metadata": {
        "colab": {
          "base_uri": "https://localhost:8080/"
        },
        "id": "nBA8HJhogfYq",
        "outputId": "36a641d8-a100-4052-d2f1-6c85c551156a"
      },
      "execution_count": null,
      "outputs": [
        {
          "output_type": "execute_result",
          "data": {
            "text/plain": [
              "0.5575014910034489"
            ]
          },
          "metadata": {},
          "execution_count": 35
        }
      ]
    },
    {
      "cell_type": "markdown",
      "source": [
        "Similar to the testing_target the accuracy score for the training_target is also 55%."
      ],
      "metadata": {
        "id": "Iom6Fk0gp5db"
      }
    },
    {
      "cell_type": "code",
      "source": [
        "\n",
        "training_features = training_df[['new_subreddit', 'num_comments','hasImage','upvote_ratio','score', 'title_len']] # training the data using six features\n",
        "training_target = training_df['2_way_label'] # 2_way_label is our target attribute\n",
        "\n",
        "testing_features = testing_df[['new_subreddit', 'num_comments','hasImage','upvote_ratio','score', 'title_len']] # testing the data using six features\n",
        "testing_target = testing_df['2_way_label']\n",
        "\n",
        "print('data for training', training_features.shape, training_target.shape)\n",
        "print('data for testing', testing_features.shape, testing_target.shape) # to further verify that the data was selected correctly"
      ],
      "metadata": {
        "colab": {
          "base_uri": "https://localhost:8080/"
        },
        "id": "QqZw8vhjpNTd",
        "outputId": "698edc66-a1ba-4595-87a2-b38d74288beb"
      },
      "execution_count": null,
      "outputs": [
        {
          "output_type": "stream",
          "name": "stdout",
          "text": [
            "data for training (702547, 6) (702547,)\n",
            "data for testing (175637, 6) (175637,)\n"
          ]
        }
      ]
    },
    {
      "cell_type": "markdown",
      "source": [
        "Verifying the data shows the same results as earlier, signifying that it was done correctly. The only different is the change of a 6 instead of a 1 to signify the 6 features now being used.\n",
        "\n"
      ],
      "metadata": {
        "id": "RNhUf-6ntTxD"
      }
    },
    {
      "cell_type": "code",
      "source": [
        "model = LogisticRegression(max_iter=1000) # added max_iter=1000 to previous code in order to train it more\n",
        "model.fit(training_features, training_target) # using the fit function to train the model with training features and training target as argument"
      ],
      "metadata": {
        "colab": {
          "base_uri": "https://localhost:8080/",
          "height": 75
        },
        "id": "mWesvhu1uAkZ",
        "outputId": "c058310e-9d07-4921-a6cc-08e2195e9da9"
      },
      "execution_count": null,
      "outputs": [
        {
          "output_type": "execute_result",
          "data": {
            "text/plain": [
              "LogisticRegression(max_iter=1000)"
            ],
            "text/html": [
              "<style>#sk-container-id-6 {color: black;background-color: white;}#sk-container-id-6 pre{padding: 0;}#sk-container-id-6 div.sk-toggleable {background-color: white;}#sk-container-id-6 label.sk-toggleable__label {cursor: pointer;display: block;width: 100%;margin-bottom: 0;padding: 0.3em;box-sizing: border-box;text-align: center;}#sk-container-id-6 label.sk-toggleable__label-arrow:before {content: \"▸\";float: left;margin-right: 0.25em;color: #696969;}#sk-container-id-6 label.sk-toggleable__label-arrow:hover:before {color: black;}#sk-container-id-6 div.sk-estimator:hover label.sk-toggleable__label-arrow:before {color: black;}#sk-container-id-6 div.sk-toggleable__content {max-height: 0;max-width: 0;overflow: hidden;text-align: left;background-color: #f0f8ff;}#sk-container-id-6 div.sk-toggleable__content pre {margin: 0.2em;color: black;border-radius: 0.25em;background-color: #f0f8ff;}#sk-container-id-6 input.sk-toggleable__control:checked~div.sk-toggleable__content {max-height: 200px;max-width: 100%;overflow: auto;}#sk-container-id-6 input.sk-toggleable__control:checked~label.sk-toggleable__label-arrow:before {content: \"▾\";}#sk-container-id-6 div.sk-estimator input.sk-toggleable__control:checked~label.sk-toggleable__label {background-color: #d4ebff;}#sk-container-id-6 div.sk-label input.sk-toggleable__control:checked~label.sk-toggleable__label {background-color: #d4ebff;}#sk-container-id-6 input.sk-hidden--visually {border: 0;clip: rect(1px 1px 1px 1px);clip: rect(1px, 1px, 1px, 1px);height: 1px;margin: -1px;overflow: hidden;padding: 0;position: absolute;width: 1px;}#sk-container-id-6 div.sk-estimator {font-family: monospace;background-color: #f0f8ff;border: 1px dotted black;border-radius: 0.25em;box-sizing: border-box;margin-bottom: 0.5em;}#sk-container-id-6 div.sk-estimator:hover {background-color: #d4ebff;}#sk-container-id-6 div.sk-parallel-item::after {content: \"\";width: 100%;border-bottom: 1px solid gray;flex-grow: 1;}#sk-container-id-6 div.sk-label:hover label.sk-toggleable__label {background-color: #d4ebff;}#sk-container-id-6 div.sk-serial::before {content: \"\";position: absolute;border-left: 1px solid gray;box-sizing: border-box;top: 0;bottom: 0;left: 50%;z-index: 0;}#sk-container-id-6 div.sk-serial {display: flex;flex-direction: column;align-items: center;background-color: white;padding-right: 0.2em;padding-left: 0.2em;position: relative;}#sk-container-id-6 div.sk-item {position: relative;z-index: 1;}#sk-container-id-6 div.sk-parallel {display: flex;align-items: stretch;justify-content: center;background-color: white;position: relative;}#sk-container-id-6 div.sk-item::before, #sk-container-id-6 div.sk-parallel-item::before {content: \"\";position: absolute;border-left: 1px solid gray;box-sizing: border-box;top: 0;bottom: 0;left: 50%;z-index: -1;}#sk-container-id-6 div.sk-parallel-item {display: flex;flex-direction: column;z-index: 1;position: relative;background-color: white;}#sk-container-id-6 div.sk-parallel-item:first-child::after {align-self: flex-end;width: 50%;}#sk-container-id-6 div.sk-parallel-item:last-child::after {align-self: flex-start;width: 50%;}#sk-container-id-6 div.sk-parallel-item:only-child::after {width: 0;}#sk-container-id-6 div.sk-dashed-wrapped {border: 1px dashed gray;margin: 0 0.4em 0.5em 0.4em;box-sizing: border-box;padding-bottom: 0.4em;background-color: white;}#sk-container-id-6 div.sk-label label {font-family: monospace;font-weight: bold;display: inline-block;line-height: 1.2em;}#sk-container-id-6 div.sk-label-container {text-align: center;}#sk-container-id-6 div.sk-container {/* jupyter's `normalize.less` sets `[hidden] { display: none; }` but bootstrap.min.css set `[hidden] { display: none !important; }` so we also need the `!important` here to be able to override the default hidden behavior on the sphinx rendered scikit-learn.org. See: https://github.com/scikit-learn/scikit-learn/issues/21755 */display: inline-block !important;position: relative;}#sk-container-id-6 div.sk-text-repr-fallback {display: none;}</style><div id=\"sk-container-id-6\" class=\"sk-top-container\"><div class=\"sk-text-repr-fallback\"><pre>LogisticRegression(max_iter=1000)</pre><b>In a Jupyter environment, please rerun this cell to show the HTML representation or trust the notebook. <br />On GitHub, the HTML representation is unable to render, please try loading this page with nbviewer.org.</b></div><div class=\"sk-container\" hidden><div class=\"sk-item\"><div class=\"sk-estimator sk-toggleable\"><input class=\"sk-toggleable__control sk-hidden--visually\" id=\"sk-estimator-id-6\" type=\"checkbox\" checked><label for=\"sk-estimator-id-6\" class=\"sk-toggleable__label sk-toggleable__label-arrow\">LogisticRegression</label><div class=\"sk-toggleable__content\"><pre>LogisticRegression(max_iter=1000)</pre></div></div></div></div></div>"
            ]
          },
          "metadata": {},
          "execution_count": 94
        }
      ]
    },
    {
      "cell_type": "markdown",
      "source": [
        "At first an error shown due to the max iterations not being high enough. Thus the max iteration was changed to 1000."
      ],
      "metadata": {
        "id": "FRvgPxVquR6H"
      }
    },
    {
      "cell_type": "code",
      "source": [
        "predictions = model.predict(testing_features) # assigning the predictions variable to the results of the testing features prediction\n",
        "predictions[:30] # printing the first 30 numbers of the prediction"
      ],
      "metadata": {
        "colab": {
          "base_uri": "https://localhost:8080/"
        },
        "id": "URGF4mQTtsDx",
        "outputId": "b788f31b-5e12-40bc-bd1d-3304f9466d70"
      },
      "execution_count": null,
      "outputs": [
        {
          "output_type": "execute_result",
          "data": {
            "text/plain": [
              "array([0, 0, 0, 1, 0, 0, 0, 0, 0, 0, 0, 0, 1, 0, 1, 0, 0, 0, 1, 1, 0, 1,\n",
              "       1, 0, 0, 0, 1, 0, 0, 1])"
            ]
          },
          "metadata": {},
          "execution_count": 90
        }
      ]
    },
    {
      "cell_type": "markdown",
      "source": [
        "Immediate and obvious difference when compared to the previous iteration of this which only used one feature. There is more diversity between the 0's and 1's."
      ],
      "metadata": {
        "id": "HNVh9NEdvX4g"
      }
    },
    {
      "cell_type": "code",
      "source": [
        "accuracy_score(testing_target, predictions) # checking the accuracy of the testing target on prediction."
      ],
      "metadata": {
        "colab": {
          "base_uri": "https://localhost:8080/"
        },
        "id": "atLcycx8uwyH",
        "outputId": "a3f67fce-a658-4f5a-a01f-3a894c46ddf3"
      },
      "execution_count": null,
      "outputs": [
        {
          "output_type": "execute_result",
          "data": {
            "text/plain": [
              "0.7068271491769957"
            ]
          },
          "metadata": {},
          "execution_count": 91
        }
      ]
    },
    {
      "cell_type": "markdown",
      "source": [
        "The accuracy score is also much higher than previous rounds. Being at 70%. I believe that this is due to the model simply being able to learn more with the larger amount of features available to it."
      ],
      "metadata": {
        "id": "uq0N4NtCvYii"
      }
    },
    {
      "cell_type": "code",
      "source": [
        "predictions = model.predict(training_features) # assigning the predictions variable to the results of the testing features prediction\n",
        "predictions[:10] # printing the first 10 numbers of the prediction"
      ],
      "metadata": {
        "colab": {
          "base_uri": "https://localhost:8080/"
        },
        "id": "65zGvNU1u2Gv",
        "outputId": "7e1b03a4-82e9-4d6b-833e-9c8eca18ca20"
      },
      "execution_count": null,
      "outputs": [
        {
          "output_type": "execute_result",
          "data": {
            "text/plain": [
              "array([0, 0, 0, 0, 1, 0, 0, 1, 1, 1])"
            ]
          },
          "metadata": {},
          "execution_count": 92
        }
      ]
    },
    {
      "cell_type": "markdown",
      "source": [
        "The training features also shows an obvious difference, with the frequency of 1's being much higher."
      ],
      "metadata": {
        "id": "QZvoT_n_vZBM"
      }
    },
    {
      "cell_type": "code",
      "source": [
        "accuracy_score(training_target, predictions) # checking the accuracy of the training target on prediction."
      ],
      "metadata": {
        "colab": {
          "base_uri": "https://localhost:8080/"
        },
        "id": "EnCvw9juu8CS",
        "outputId": "7fbb60d4-57ef-4e6b-9ff6-bd98bf0c4b29"
      },
      "execution_count": null,
      "outputs": [
        {
          "output_type": "execute_result",
          "data": {
            "text/plain": [
              "0.7072067776248422"
            ]
          },
          "metadata": {},
          "execution_count": 93
        }
      ]
    },
    {
      "cell_type": "markdown",
      "source": [
        "The accuracy score is also 70%. Similar to the accuracy score for the testing_target using 6 features"
      ],
      "metadata": {
        "id": "mz5d8f41vZoh"
      }
    },
    {
      "cell_type": "markdown",
      "source": [
        "\n",
        "# Final thoughts\n",
        "\n",
        "The assignment highlighted the importance of data preprocessing and feature selection in machine learning tasks.\n",
        "Using multiple features significantly improved model performance compared to using a single feature.\n",
        "Further experimentation with different algorithms and hyperparameter tuning could enhance model accuracy.\n",
        "\n",
        "Overall, the assignment provided valuable insights into data analysis and modeling techniques, contributing to a deeper understanding of predictive analytics."
      ],
      "metadata": {
        "id": "LGGpa-sgwLb5"
      }
    }
  ]
}