{
  "nbformat": 4,
  "nbformat_minor": 0,
  "metadata": {
    "colab": {
      "provenance": []
    },
    "kernelspec": {
      "name": "python3",
      "display_name": "Python 3"
    },
    "language_info": {
      "name": "python"
    }
  },
  "cells": [
    {
      "cell_type": "code",
      "execution_count": 1,
      "metadata": {
        "id": "ixGH0XFulnT2"
      },
      "outputs": [],
      "source": [
        "# Importing the necessary libraries and frameworks\n",
        "\n",
        "import numpy as np\n",
        "import pandas as pd\n",
        "import matplotlib.pyplot as plt\n",
        "import seaborn as sns\n",
        "from sklearn.preprocessing import StandardScaler\n",
        "from sklearn.linear_model import LogisticRegression\n",
        "from sklearn.model_selection import train_test_split\n",
        "from imblearn.under_sampling import RandomUnderSampler\n",
        "from sklearn.ensemble import RandomForestClassifier\n",
        "from sklearn.metrics import classification_report\n",
        "\n"
      ]
    },
    {
      "cell_type": "markdown",
      "source": [
        "# Exploratory Data Analysis"
      ],
      "metadata": {
        "id": "lDlIaMGeBlJM"
      }
    },
    {
      "cell_type": "code",
      "source": [
        "# Loading & inspecting the data set\n",
        "df = pd.read_csv('creditcard.csv')\n",
        "df.info()\n",
        "df.sample(10)"
      ],
      "metadata": {
        "colab": {
          "base_uri": "https://localhost:8080/",
          "height": 1000
        },
        "id": "87odz8YZBewU",
        "outputId": "c44d6e3e-fd2e-4f10-fca7-14e299eb8633"
      },
      "execution_count": 2,
      "outputs": [
        {
          "output_type": "stream",
          "name": "stdout",
          "text": [
            "<class 'pandas.core.frame.DataFrame'>\n",
            "RangeIndex: 284807 entries, 0 to 284806\n",
            "Data columns (total 31 columns):\n",
            " #   Column  Non-Null Count   Dtype  \n",
            "---  ------  --------------   -----  \n",
            " 0   Time    284807 non-null  float64\n",
            " 1   V1      284807 non-null  float64\n",
            " 2   V2      284807 non-null  float64\n",
            " 3   V3      284807 non-null  float64\n",
            " 4   V4      284807 non-null  float64\n",
            " 5   V5      284807 non-null  float64\n",
            " 6   V6      284807 non-null  float64\n",
            " 7   V7      284807 non-null  float64\n",
            " 8   V8      284807 non-null  float64\n",
            " 9   V9      284807 non-null  float64\n",
            " 10  V10     284807 non-null  float64\n",
            " 11  V11     284807 non-null  float64\n",
            " 12  V12     284807 non-null  float64\n",
            " 13  V13     284807 non-null  float64\n",
            " 14  V14     284807 non-null  float64\n",
            " 15  V15     284807 non-null  float64\n",
            " 16  V16     284807 non-null  float64\n",
            " 17  V17     284807 non-null  float64\n",
            " 18  V18     284807 non-null  float64\n",
            " 19  V19     284807 non-null  float64\n",
            " 20  V20     284807 non-null  float64\n",
            " 21  V21     284807 non-null  float64\n",
            " 22  V22     284807 non-null  float64\n",
            " 23  V23     284807 non-null  float64\n",
            " 24  V24     284807 non-null  float64\n",
            " 25  V25     284807 non-null  float64\n",
            " 26  V26     284807 non-null  float64\n",
            " 27  V27     284807 non-null  float64\n",
            " 28  V28     284807 non-null  float64\n",
            " 29  Amount  284807 non-null  float64\n",
            " 30  Class   284807 non-null  int64  \n",
            "dtypes: float64(30), int64(1)\n",
            "memory usage: 67.4 MB\n"
          ]
        },
        {
          "output_type": "execute_result",
          "data": {
            "text/plain": [
              "            Time        V1        V2        V3        V4        V5        V6  \\\n",
              "92795    64109.0 -0.601251  1.255896  1.084574 -0.184366  0.266305 -0.494269   \n",
              "24680    33328.0 -0.452864  0.182832  0.169133 -3.049969  2.160390  3.211687   \n",
              "95775    65461.0 -1.321790 -0.330498  1.306576 -1.009528  0.814733 -1.335414   \n",
              "182376  125370.0 -1.164439  0.216165  1.764163 -3.080797 -0.047752  0.585089   \n",
              "112717   72775.0 -1.021930  0.924694  0.983056 -1.367281 -0.529763 -0.396372   \n",
              "98224    66571.0  1.237322  0.243815  0.172440  0.505730 -0.215366 -0.574754   \n",
              "154764  102875.0 -1.038703  0.395165  0.640370  0.265188  1.853224 -1.181900   \n",
              "108452   70907.0  0.030371  1.603173 -2.217304  1.610322  1.253953 -0.125151   \n",
              "127696   78430.0 -1.392736  0.293099  1.867629  0.985245 -1.439571  0.903502   \n",
              "57059    47734.0 -0.502292  0.954784  1.533065  0.986349  0.646692  0.619866   \n",
              "\n",
              "              V7        V8        V9  ...       V21       V22       V23  \\\n",
              "92795   0.603235  0.080474 -0.508732  ... -0.259324 -0.622561 -0.065894   \n",
              "24680  -0.024089  0.638265 -1.208224  ... -0.097990 -0.368980 -0.175686   \n",
              "95775   0.812162 -0.139088 -1.857989  ... -0.425876 -1.220060  0.389532   \n",
              "182376  0.087823 -0.082250 -0.359478  ...  0.462856  1.125844 -0.657934   \n",
              "112717 -0.101077  0.759365  0.080708  ... -0.032666 -0.184401  0.073111   \n",
              "98224  -0.073264  0.006048 -0.094286  ... -0.266507 -0.838154  0.084792   \n",
              "154764  0.909476 -0.132927  0.537962  ...  0.043744  0.162861 -0.241018   \n",
              "108452  0.216585  0.725883 -0.363643  ...  0.035721  0.325625  0.440859   \n",
              "127696  0.585804  0.673219 -0.574938  ...  0.283264  0.285691  0.365404   \n",
              "57059   0.911592 -0.158615 -0.048962  ... -0.143581  0.355734 -0.258870   \n",
              "\n",
              "             V24       V25       V26       V27       V28  Amount  Class  \n",
              "92795  -0.038708 -0.080273  0.077985  0.351683  0.148049    2.69      0  \n",
              "24680   0.973067  0.084920 -0.587759  0.026346 -0.062270    7.95      0  \n",
              "95775   0.298499 -0.007888 -0.994810  0.042198  0.140837   91.00      0  \n",
              "182376  0.226355  0.801523 -0.146729 -0.836370 -0.206061   20.35      0  \n",
              "112717  0.014840 -0.330530  0.747020  0.162083  0.046643    7.61      0  \n",
              "98224  -0.062395  0.206152  0.100144 -0.031983  0.015613    1.29      0  \n",
              "154764 -0.075807  0.467452 -0.689933  0.031923  0.119479   11.76      0  \n",
              "108452 -1.008099 -0.802894 -0.295564  0.081967 -0.077848    9.95      0  \n",
              "127696 -0.037999  0.365550 -0.269100 -0.098001  0.036727  282.17      0  \n",
              "57059  -0.285733 -0.072372 -0.271936  0.211129 -0.192084   16.24      0  \n",
              "\n",
              "[10 rows x 31 columns]"
            ],
            "text/html": [
              "\n",
              "  <div id=\"df-a311121b-f30b-4a2b-b2d5-af70e22772ba\" class=\"colab-df-container\">\n",
              "    <div>\n",
              "<style scoped>\n",
              "    .dataframe tbody tr th:only-of-type {\n",
              "        vertical-align: middle;\n",
              "    }\n",
              "\n",
              "    .dataframe tbody tr th {\n",
              "        vertical-align: top;\n",
              "    }\n",
              "\n",
              "    .dataframe thead th {\n",
              "        text-align: right;\n",
              "    }\n",
              "</style>\n",
              "<table border=\"1\" class=\"dataframe\">\n",
              "  <thead>\n",
              "    <tr style=\"text-align: right;\">\n",
              "      <th></th>\n",
              "      <th>Time</th>\n",
              "      <th>V1</th>\n",
              "      <th>V2</th>\n",
              "      <th>V3</th>\n",
              "      <th>V4</th>\n",
              "      <th>V5</th>\n",
              "      <th>V6</th>\n",
              "      <th>V7</th>\n",
              "      <th>V8</th>\n",
              "      <th>V9</th>\n",
              "      <th>...</th>\n",
              "      <th>V21</th>\n",
              "      <th>V22</th>\n",
              "      <th>V23</th>\n",
              "      <th>V24</th>\n",
              "      <th>V25</th>\n",
              "      <th>V26</th>\n",
              "      <th>V27</th>\n",
              "      <th>V28</th>\n",
              "      <th>Amount</th>\n",
              "      <th>Class</th>\n",
              "    </tr>\n",
              "  </thead>\n",
              "  <tbody>\n",
              "    <tr>\n",
              "      <th>92795</th>\n",
              "      <td>64109.0</td>\n",
              "      <td>-0.601251</td>\n",
              "      <td>1.255896</td>\n",
              "      <td>1.084574</td>\n",
              "      <td>-0.184366</td>\n",
              "      <td>0.266305</td>\n",
              "      <td>-0.494269</td>\n",
              "      <td>0.603235</td>\n",
              "      <td>0.080474</td>\n",
              "      <td>-0.508732</td>\n",
              "      <td>...</td>\n",
              "      <td>-0.259324</td>\n",
              "      <td>-0.622561</td>\n",
              "      <td>-0.065894</td>\n",
              "      <td>-0.038708</td>\n",
              "      <td>-0.080273</td>\n",
              "      <td>0.077985</td>\n",
              "      <td>0.351683</td>\n",
              "      <td>0.148049</td>\n",
              "      <td>2.69</td>\n",
              "      <td>0</td>\n",
              "    </tr>\n",
              "    <tr>\n",
              "      <th>24680</th>\n",
              "      <td>33328.0</td>\n",
              "      <td>-0.452864</td>\n",
              "      <td>0.182832</td>\n",
              "      <td>0.169133</td>\n",
              "      <td>-3.049969</td>\n",
              "      <td>2.160390</td>\n",
              "      <td>3.211687</td>\n",
              "      <td>-0.024089</td>\n",
              "      <td>0.638265</td>\n",
              "      <td>-1.208224</td>\n",
              "      <td>...</td>\n",
              "      <td>-0.097990</td>\n",
              "      <td>-0.368980</td>\n",
              "      <td>-0.175686</td>\n",
              "      <td>0.973067</td>\n",
              "      <td>0.084920</td>\n",
              "      <td>-0.587759</td>\n",
              "      <td>0.026346</td>\n",
              "      <td>-0.062270</td>\n",
              "      <td>7.95</td>\n",
              "      <td>0</td>\n",
              "    </tr>\n",
              "    <tr>\n",
              "      <th>95775</th>\n",
              "      <td>65461.0</td>\n",
              "      <td>-1.321790</td>\n",
              "      <td>-0.330498</td>\n",
              "      <td>1.306576</td>\n",
              "      <td>-1.009528</td>\n",
              "      <td>0.814733</td>\n",
              "      <td>-1.335414</td>\n",
              "      <td>0.812162</td>\n",
              "      <td>-0.139088</td>\n",
              "      <td>-1.857989</td>\n",
              "      <td>...</td>\n",
              "      <td>-0.425876</td>\n",
              "      <td>-1.220060</td>\n",
              "      <td>0.389532</td>\n",
              "      <td>0.298499</td>\n",
              "      <td>-0.007888</td>\n",
              "      <td>-0.994810</td>\n",
              "      <td>0.042198</td>\n",
              "      <td>0.140837</td>\n",
              "      <td>91.00</td>\n",
              "      <td>0</td>\n",
              "    </tr>\n",
              "    <tr>\n",
              "      <th>182376</th>\n",
              "      <td>125370.0</td>\n",
              "      <td>-1.164439</td>\n",
              "      <td>0.216165</td>\n",
              "      <td>1.764163</td>\n",
              "      <td>-3.080797</td>\n",
              "      <td>-0.047752</td>\n",
              "      <td>0.585089</td>\n",
              "      <td>0.087823</td>\n",
              "      <td>-0.082250</td>\n",
              "      <td>-0.359478</td>\n",
              "      <td>...</td>\n",
              "      <td>0.462856</td>\n",
              "      <td>1.125844</td>\n",
              "      <td>-0.657934</td>\n",
              "      <td>0.226355</td>\n",
              "      <td>0.801523</td>\n",
              "      <td>-0.146729</td>\n",
              "      <td>-0.836370</td>\n",
              "      <td>-0.206061</td>\n",
              "      <td>20.35</td>\n",
              "      <td>0</td>\n",
              "    </tr>\n",
              "    <tr>\n",
              "      <th>112717</th>\n",
              "      <td>72775.0</td>\n",
              "      <td>-1.021930</td>\n",
              "      <td>0.924694</td>\n",
              "      <td>0.983056</td>\n",
              "      <td>-1.367281</td>\n",
              "      <td>-0.529763</td>\n",
              "      <td>-0.396372</td>\n",
              "      <td>-0.101077</td>\n",
              "      <td>0.759365</td>\n",
              "      <td>0.080708</td>\n",
              "      <td>...</td>\n",
              "      <td>-0.032666</td>\n",
              "      <td>-0.184401</td>\n",
              "      <td>0.073111</td>\n",
              "      <td>0.014840</td>\n",
              "      <td>-0.330530</td>\n",
              "      <td>0.747020</td>\n",
              "      <td>0.162083</td>\n",
              "      <td>0.046643</td>\n",
              "      <td>7.61</td>\n",
              "      <td>0</td>\n",
              "    </tr>\n",
              "    <tr>\n",
              "      <th>98224</th>\n",
              "      <td>66571.0</td>\n",
              "      <td>1.237322</td>\n",
              "      <td>0.243815</td>\n",
              "      <td>0.172440</td>\n",
              "      <td>0.505730</td>\n",
              "      <td>-0.215366</td>\n",
              "      <td>-0.574754</td>\n",
              "      <td>-0.073264</td>\n",
              "      <td>0.006048</td>\n",
              "      <td>-0.094286</td>\n",
              "      <td>...</td>\n",
              "      <td>-0.266507</td>\n",
              "      <td>-0.838154</td>\n",
              "      <td>0.084792</td>\n",
              "      <td>-0.062395</td>\n",
              "      <td>0.206152</td>\n",
              "      <td>0.100144</td>\n",
              "      <td>-0.031983</td>\n",
              "      <td>0.015613</td>\n",
              "      <td>1.29</td>\n",
              "      <td>0</td>\n",
              "    </tr>\n",
              "    <tr>\n",
              "      <th>154764</th>\n",
              "      <td>102875.0</td>\n",
              "      <td>-1.038703</td>\n",
              "      <td>0.395165</td>\n",
              "      <td>0.640370</td>\n",
              "      <td>0.265188</td>\n",
              "      <td>1.853224</td>\n",
              "      <td>-1.181900</td>\n",
              "      <td>0.909476</td>\n",
              "      <td>-0.132927</td>\n",
              "      <td>0.537962</td>\n",
              "      <td>...</td>\n",
              "      <td>0.043744</td>\n",
              "      <td>0.162861</td>\n",
              "      <td>-0.241018</td>\n",
              "      <td>-0.075807</td>\n",
              "      <td>0.467452</td>\n",
              "      <td>-0.689933</td>\n",
              "      <td>0.031923</td>\n",
              "      <td>0.119479</td>\n",
              "      <td>11.76</td>\n",
              "      <td>0</td>\n",
              "    </tr>\n",
              "    <tr>\n",
              "      <th>108452</th>\n",
              "      <td>70907.0</td>\n",
              "      <td>0.030371</td>\n",
              "      <td>1.603173</td>\n",
              "      <td>-2.217304</td>\n",
              "      <td>1.610322</td>\n",
              "      <td>1.253953</td>\n",
              "      <td>-0.125151</td>\n",
              "      <td>0.216585</td>\n",
              "      <td>0.725883</td>\n",
              "      <td>-0.363643</td>\n",
              "      <td>...</td>\n",
              "      <td>0.035721</td>\n",
              "      <td>0.325625</td>\n",
              "      <td>0.440859</td>\n",
              "      <td>-1.008099</td>\n",
              "      <td>-0.802894</td>\n",
              "      <td>-0.295564</td>\n",
              "      <td>0.081967</td>\n",
              "      <td>-0.077848</td>\n",
              "      <td>9.95</td>\n",
              "      <td>0</td>\n",
              "    </tr>\n",
              "    <tr>\n",
              "      <th>127696</th>\n",
              "      <td>78430.0</td>\n",
              "      <td>-1.392736</td>\n",
              "      <td>0.293099</td>\n",
              "      <td>1.867629</td>\n",
              "      <td>0.985245</td>\n",
              "      <td>-1.439571</td>\n",
              "      <td>0.903502</td>\n",
              "      <td>0.585804</td>\n",
              "      <td>0.673219</td>\n",
              "      <td>-0.574938</td>\n",
              "      <td>...</td>\n",
              "      <td>0.283264</td>\n",
              "      <td>0.285691</td>\n",
              "      <td>0.365404</td>\n",
              "      <td>-0.037999</td>\n",
              "      <td>0.365550</td>\n",
              "      <td>-0.269100</td>\n",
              "      <td>-0.098001</td>\n",
              "      <td>0.036727</td>\n",
              "      <td>282.17</td>\n",
              "      <td>0</td>\n",
              "    </tr>\n",
              "    <tr>\n",
              "      <th>57059</th>\n",
              "      <td>47734.0</td>\n",
              "      <td>-0.502292</td>\n",
              "      <td>0.954784</td>\n",
              "      <td>1.533065</td>\n",
              "      <td>0.986349</td>\n",
              "      <td>0.646692</td>\n",
              "      <td>0.619866</td>\n",
              "      <td>0.911592</td>\n",
              "      <td>-0.158615</td>\n",
              "      <td>-0.048962</td>\n",
              "      <td>...</td>\n",
              "      <td>-0.143581</td>\n",
              "      <td>0.355734</td>\n",
              "      <td>-0.258870</td>\n",
              "      <td>-0.285733</td>\n",
              "      <td>-0.072372</td>\n",
              "      <td>-0.271936</td>\n",
              "      <td>0.211129</td>\n",
              "      <td>-0.192084</td>\n",
              "      <td>16.24</td>\n",
              "      <td>0</td>\n",
              "    </tr>\n",
              "  </tbody>\n",
              "</table>\n",
              "<p>10 rows × 31 columns</p>\n",
              "</div>\n",
              "    <div class=\"colab-df-buttons\">\n",
              "\n",
              "  <div class=\"colab-df-container\">\n",
              "    <button class=\"colab-df-convert\" onclick=\"convertToInteractive('df-a311121b-f30b-4a2b-b2d5-af70e22772ba')\"\n",
              "            title=\"Convert this dataframe to an interactive table.\"\n",
              "            style=\"display:none;\">\n",
              "\n",
              "  <svg xmlns=\"http://www.w3.org/2000/svg\" height=\"24px\" viewBox=\"0 -960 960 960\">\n",
              "    <path d=\"M120-120v-720h720v720H120Zm60-500h600v-160H180v160Zm220 220h160v-160H400v160Zm0 220h160v-160H400v160ZM180-400h160v-160H180v160Zm440 0h160v-160H620v160ZM180-180h160v-160H180v160Zm440 0h160v-160H620v160Z\"/>\n",
              "  </svg>\n",
              "    </button>\n",
              "\n",
              "  <style>\n",
              "    .colab-df-container {\n",
              "      display:flex;\n",
              "      gap: 12px;\n",
              "    }\n",
              "\n",
              "    .colab-df-convert {\n",
              "      background-color: #E8F0FE;\n",
              "      border: none;\n",
              "      border-radius: 50%;\n",
              "      cursor: pointer;\n",
              "      display: none;\n",
              "      fill: #1967D2;\n",
              "      height: 32px;\n",
              "      padding: 0 0 0 0;\n",
              "      width: 32px;\n",
              "    }\n",
              "\n",
              "    .colab-df-convert:hover {\n",
              "      background-color: #E2EBFA;\n",
              "      box-shadow: 0px 1px 2px rgba(60, 64, 67, 0.3), 0px 1px 3px 1px rgba(60, 64, 67, 0.15);\n",
              "      fill: #174EA6;\n",
              "    }\n",
              "\n",
              "    .colab-df-buttons div {\n",
              "      margin-bottom: 4px;\n",
              "    }\n",
              "\n",
              "    [theme=dark] .colab-df-convert {\n",
              "      background-color: #3B4455;\n",
              "      fill: #D2E3FC;\n",
              "    }\n",
              "\n",
              "    [theme=dark] .colab-df-convert:hover {\n",
              "      background-color: #434B5C;\n",
              "      box-shadow: 0px 1px 3px 1px rgba(0, 0, 0, 0.15);\n",
              "      filter: drop-shadow(0px 1px 2px rgba(0, 0, 0, 0.3));\n",
              "      fill: #FFFFFF;\n",
              "    }\n",
              "  </style>\n",
              "\n",
              "    <script>\n",
              "      const buttonEl =\n",
              "        document.querySelector('#df-a311121b-f30b-4a2b-b2d5-af70e22772ba button.colab-df-convert');\n",
              "      buttonEl.style.display =\n",
              "        google.colab.kernel.accessAllowed ? 'block' : 'none';\n",
              "\n",
              "      async function convertToInteractive(key) {\n",
              "        const element = document.querySelector('#df-a311121b-f30b-4a2b-b2d5-af70e22772ba');\n",
              "        const dataTable =\n",
              "          await google.colab.kernel.invokeFunction('convertToInteractive',\n",
              "                                                    [key], {});\n",
              "        if (!dataTable) return;\n",
              "\n",
              "        const docLinkHtml = 'Like what you see? Visit the ' +\n",
              "          '<a target=\"_blank\" href=https://colab.research.google.com/notebooks/data_table.ipynb>data table notebook</a>'\n",
              "          + ' to learn more about interactive tables.';\n",
              "        element.innerHTML = '';\n",
              "        dataTable['output_type'] = 'display_data';\n",
              "        await google.colab.output.renderOutput(dataTable, element);\n",
              "        const docLink = document.createElement('div');\n",
              "        docLink.innerHTML = docLinkHtml;\n",
              "        element.appendChild(docLink);\n",
              "      }\n",
              "    </script>\n",
              "  </div>\n",
              "\n",
              "\n",
              "<div id=\"df-143753c9-06c0-4dc3-a07e-5444305d8a2b\">\n",
              "  <button class=\"colab-df-quickchart\" onclick=\"quickchart('df-143753c9-06c0-4dc3-a07e-5444305d8a2b')\"\n",
              "            title=\"Suggest charts\"\n",
              "            style=\"display:none;\">\n",
              "\n",
              "<svg xmlns=\"http://www.w3.org/2000/svg\" height=\"24px\"viewBox=\"0 0 24 24\"\n",
              "     width=\"24px\">\n",
              "    <g>\n",
              "        <path d=\"M19 3H5c-1.1 0-2 .9-2 2v14c0 1.1.9 2 2 2h14c1.1 0 2-.9 2-2V5c0-1.1-.9-2-2-2zM9 17H7v-7h2v7zm4 0h-2V7h2v10zm4 0h-2v-4h2v4z\"/>\n",
              "    </g>\n",
              "</svg>\n",
              "  </button>\n",
              "\n",
              "<style>\n",
              "  .colab-df-quickchart {\n",
              "      --bg-color: #E8F0FE;\n",
              "      --fill-color: #1967D2;\n",
              "      --hover-bg-color: #E2EBFA;\n",
              "      --hover-fill-color: #174EA6;\n",
              "      --disabled-fill-color: #AAA;\n",
              "      --disabled-bg-color: #DDD;\n",
              "  }\n",
              "\n",
              "  [theme=dark] .colab-df-quickchart {\n",
              "      --bg-color: #3B4455;\n",
              "      --fill-color: #D2E3FC;\n",
              "      --hover-bg-color: #434B5C;\n",
              "      --hover-fill-color: #FFFFFF;\n",
              "      --disabled-bg-color: #3B4455;\n",
              "      --disabled-fill-color: #666;\n",
              "  }\n",
              "\n",
              "  .colab-df-quickchart {\n",
              "    background-color: var(--bg-color);\n",
              "    border: none;\n",
              "    border-radius: 50%;\n",
              "    cursor: pointer;\n",
              "    display: none;\n",
              "    fill: var(--fill-color);\n",
              "    height: 32px;\n",
              "    padding: 0;\n",
              "    width: 32px;\n",
              "  }\n",
              "\n",
              "  .colab-df-quickchart:hover {\n",
              "    background-color: var(--hover-bg-color);\n",
              "    box-shadow: 0 1px 2px rgba(60, 64, 67, 0.3), 0 1px 3px 1px rgba(60, 64, 67, 0.15);\n",
              "    fill: var(--button-hover-fill-color);\n",
              "  }\n",
              "\n",
              "  .colab-df-quickchart-complete:disabled,\n",
              "  .colab-df-quickchart-complete:disabled:hover {\n",
              "    background-color: var(--disabled-bg-color);\n",
              "    fill: var(--disabled-fill-color);\n",
              "    box-shadow: none;\n",
              "  }\n",
              "\n",
              "  .colab-df-spinner {\n",
              "    border: 2px solid var(--fill-color);\n",
              "    border-color: transparent;\n",
              "    border-bottom-color: var(--fill-color);\n",
              "    animation:\n",
              "      spin 1s steps(1) infinite;\n",
              "  }\n",
              "\n",
              "  @keyframes spin {\n",
              "    0% {\n",
              "      border-color: transparent;\n",
              "      border-bottom-color: var(--fill-color);\n",
              "      border-left-color: var(--fill-color);\n",
              "    }\n",
              "    20% {\n",
              "      border-color: transparent;\n",
              "      border-left-color: var(--fill-color);\n",
              "      border-top-color: var(--fill-color);\n",
              "    }\n",
              "    30% {\n",
              "      border-color: transparent;\n",
              "      border-left-color: var(--fill-color);\n",
              "      border-top-color: var(--fill-color);\n",
              "      border-right-color: var(--fill-color);\n",
              "    }\n",
              "    40% {\n",
              "      border-color: transparent;\n",
              "      border-right-color: var(--fill-color);\n",
              "      border-top-color: var(--fill-color);\n",
              "    }\n",
              "    60% {\n",
              "      border-color: transparent;\n",
              "      border-right-color: var(--fill-color);\n",
              "    }\n",
              "    80% {\n",
              "      border-color: transparent;\n",
              "      border-right-color: var(--fill-color);\n",
              "      border-bottom-color: var(--fill-color);\n",
              "    }\n",
              "    90% {\n",
              "      border-color: transparent;\n",
              "      border-bottom-color: var(--fill-color);\n",
              "    }\n",
              "  }\n",
              "</style>\n",
              "\n",
              "  <script>\n",
              "    async function quickchart(key) {\n",
              "      const quickchartButtonEl =\n",
              "        document.querySelector('#' + key + ' button');\n",
              "      quickchartButtonEl.disabled = true;  // To prevent multiple clicks.\n",
              "      quickchartButtonEl.classList.add('colab-df-spinner');\n",
              "      try {\n",
              "        const charts = await google.colab.kernel.invokeFunction(\n",
              "            'suggestCharts', [key], {});\n",
              "      } catch (error) {\n",
              "        console.error('Error during call to suggestCharts:', error);\n",
              "      }\n",
              "      quickchartButtonEl.classList.remove('colab-df-spinner');\n",
              "      quickchartButtonEl.classList.add('colab-df-quickchart-complete');\n",
              "    }\n",
              "    (() => {\n",
              "      let quickchartButtonEl =\n",
              "        document.querySelector('#df-143753c9-06c0-4dc3-a07e-5444305d8a2b button');\n",
              "      quickchartButtonEl.style.display =\n",
              "        google.colab.kernel.accessAllowed ? 'block' : 'none';\n",
              "    })();\n",
              "  </script>\n",
              "</div>\n",
              "\n",
              "    </div>\n",
              "  </div>\n"
            ],
            "application/vnd.google.colaboratory.intrinsic+json": {
              "type": "dataframe"
            }
          },
          "metadata": {},
          "execution_count": 2
        }
      ]
    },
    {
      "cell_type": "code",
      "source": [
        "df.isna().sum() # checking for missing values"
      ],
      "metadata": {
        "colab": {
          "base_uri": "https://localhost:8080/"
        },
        "id": "G8c4xyAdAyM5",
        "outputId": "a1e24265-80b2-4085-d06c-d47b8151455a"
      },
      "execution_count": 3,
      "outputs": [
        {
          "output_type": "execute_result",
          "data": {
            "text/plain": [
              "Time      0\n",
              "V1        0\n",
              "V2        0\n",
              "V3        0\n",
              "V4        0\n",
              "V5        0\n",
              "V6        0\n",
              "V7        0\n",
              "V8        0\n",
              "V9        0\n",
              "V10       0\n",
              "V11       0\n",
              "V12       0\n",
              "V13       0\n",
              "V14       0\n",
              "V15       0\n",
              "V16       0\n",
              "V17       0\n",
              "V18       0\n",
              "V19       0\n",
              "V20       0\n",
              "V21       0\n",
              "V22       0\n",
              "V23       0\n",
              "V24       0\n",
              "V25       0\n",
              "V26       0\n",
              "V27       0\n",
              "V28       0\n",
              "Amount    0\n",
              "Class     0\n",
              "dtype: int64"
            ]
          },
          "metadata": {},
          "execution_count": 3
        }
      ]
    },
    {
      "cell_type": "code",
      "source": [
        "# Check the unique values in the 'Class' column\n",
        "print(df['Class'].unique())"
      ],
      "metadata": {
        "colab": {
          "base_uri": "https://localhost:8080/"
        },
        "id": "qcx-etpCD47B",
        "outputId": "4a9ff349-74df-4ab9-ced7-9675d25f4d86"
      },
      "execution_count": 4,
      "outputs": [
        {
          "output_type": "stream",
          "name": "stdout",
          "text": [
            "[0 1]\n"
          ]
        }
      ]
    },
    {
      "cell_type": "markdown",
      "source": [
        "0 - Legitimate\n",
        "1 - Fraudulent"
      ],
      "metadata": {
        "id": "YvV1gEaYQe_T"
      }
    },
    {
      "cell_type": "code",
      "source": [
        "# Visualize the distribution of the 'Amount' feature\n",
        "plt.hist(df['Amount'], bins=20)\n",
        "plt.xlabel('Transaction Amount')\n",
        "plt.ylabel('Frequency')\n",
        "plt.title('Distribution of Transaction Amount')\n",
        "plt.show()\n"
      ],
      "metadata": {
        "id": "QOypzmcVQU14",
        "colab": {
          "base_uri": "https://localhost:8080/",
          "height": 472
        },
        "outputId": "d7a7ea6d-1840-4c98-c727-77910652f671"
      },
      "execution_count": 6,
      "outputs": [
        {
          "output_type": "display_data",
          "data": {
            "text/plain": [
              "<Figure size 640x480 with 1 Axes>"
            ],
            "image/png": "[encoded data removed]"
          },
          "metadata": {}
        }
      ]
    },
    {
      "cell_type": "markdown",
      "source": [
        "The majority of the transactions are small which aligns with the expectation in credit card transactions that most purchases or transactions tend to be of relatively low value. This observation is typical in credit card fraud detection datasets, where fraudulent transactions often involve larger amounts compared to legitimate transactions.\n",
        "\n"
      ],
      "metadata": {
        "id": "yAkphiF-YKp1"
      }
    },
    {
      "cell_type": "code",
      "source": [
        "# Count the occurrences of each class\n",
        "class_counts = df['Class'].value_counts()\n",
        "\n",
        "# Create a bar plot\n",
        "plt.bar(class_counts.index, class_counts.values)\n",
        "plt.xlabel('Class')\n",
        "plt.ylabel('Count')\n",
        "plt.title('Fraudulent vs. Non-Fraudulent Transactions')\n",
        "plt.xticks([0, 1], ['Legitimate', 'Fraudulent'])\n",
        "plt.show()"
      ],
      "metadata": {
        "colab": {
          "base_uri": "https://localhost:8080/",
          "height": 472
        },
        "id": "gbtmIgmDDO7Q",
        "outputId": "c280acc6-975b-4340-f1bc-fad7f77a46be"
      },
      "execution_count": 5,
      "outputs": [
        {
          "output_type": "display_data",
          "data": {
            "text/plain": [
              "<Figure size 640x480 with 1 Axes>"
            ],
            "image/png": "[encoded data removed]"
          },
          "metadata": {}
        }
      ]
    },
    {
      "cell_type": "markdown",
      "source": [
        "As we can see here, the dataset is imbalanced. This means that with so few fraudulent credit card cases (called the minority class) the training model will spend most of its time on legitimate cases (the majority class) and as a result the model's predictive performance on the fraudulent cases may be lower due to this bias.\n",
        "\n",
        "This is a common occurance in credit card fraud detection datasets and is nothing to worry about.\n",
        "\n",
        "However, to address this issue we can employ various different techniques  \n",
        "\n",
        "\n",
        "To address the issue of class imbalance, you can employ various techniques such as resampling (e.g., oversampling of the minority class or undersampling of the majority class), using different evaluation metrics (e.g., precision, recall, F1-score) that are sensitive to imbalanced datasets, or using algorithms specifically designed to handle imbalanced data (e.g., ensemble methods like Random Forest or gradient boosting).\n",
        "\n",
        "The technique that I will be using in this project is Resampling."
      ],
      "metadata": {
        "id": "6eyPzU2-FGuv"
      }
    },
    {
      "cell_type": "markdown",
      "source": [
        "# Feature Engineering"
      ],
      "metadata": {
        "id": "7pszQ9PiECI7"
      }
    },
    {
      "cell_type": "code",
      "source": [
        "# Convert 'Time' feature to hours of the day\n",
        "df['Hour'] = df['Time'] / 3600  # Convert seconds to hours\n",
        "df['Hour'] = df['Hour'] % 24  # Modulus operation to get hours"
      ],
      "metadata": {
        "id": "ZIAb9snwjcxD"
      },
      "execution_count": 7,
      "outputs": []
    },
    {
      "cell_type": "markdown",
      "source": [
        "In the previous cell I am converting the time feature into a more meaningful representation such as hours of the day."
      ],
      "metadata": {
        "id": "XC90nVI2jrdy"
      }
    },
    {
      "cell_type": "code",
      "source": [
        "# Define the time window\n",
        "\n",
        "time_window = 1 # hours\n",
        "\n",
        "# Calculate transaction frequency within the time window\n",
        "df['TransactionFrequency'] = df.groupby('Hour')['Hour'].transform('count')/time_window"
      ],
      "metadata": {
        "id": "jHz6yhWJjlyZ"
      },
      "execution_count": 8,
      "outputs": []
    },
    {
      "cell_type": "markdown",
      "source": [
        "A new feature called 'TransactionFrequency' was created to represent the frequency of transactions within the previously specified time window.\n",
        "\n",
        "I group the transactions by hour in order to be able to count the number of transactions within each hour. Then I divide by the time window to get the frequency (how many times in an hour)"
      ],
      "metadata": {
        "id": "8oXauPAgkWqX"
      }
    },
    {
      "cell_type": "code",
      "source": [
        "# Plotting the transaction frequency as a histogram\n",
        "\n",
        "plt.hist(df['TransactionFrequency'], bins=20)\n",
        "plt.xlabel('Transaction Frequency')\n",
        "plt.ylabel('Frequency')\n",
        "plt.title('Distribution of Transaction Frequency')\n",
        "plt.show()"
      ],
      "metadata": {
        "colab": {
          "base_uri": "https://localhost:8080/",
          "height": 472
        },
        "id": "R_JHIbbIjqaV",
        "outputId": "305fee6a-4f84-4819-fe2c-98665a31f84a"
      },
      "execution_count": 9,
      "outputs": [
        {
          "output_type": "display_data",
          "data": {
            "text/plain": [
              "<Figure size 640x480 with 1 Axes>"
            ],
            "image/png": "[encoded data removed]"
          },
          "metadata": {}
        }
      ]
    },
    {
      "cell_type": "markdown",
      "source": [
        "From the histogram, we can observe that transaction frequencies between 0 and 10 transactions per hour are the most frequent in the dataset. Specifically, the range of 0 to 5 transactions per hour has the highest frequency"
      ],
      "metadata": {
        "id": "Hsn8EYF0oF1J"
      }
    },
    {
      "cell_type": "markdown",
      "source": [
        "# Data Preprocessing"
      ],
      "metadata": {
        "id": "s_WkXQPSEKQ6"
      }
    },
    {
      "cell_type": "code",
      "source": [
        "# Splitting the data into features (X) and target variable (y)\n",
        "\n",
        "X = df.drop('Class', axis=1)\n",
        "y = df['Class']"
      ],
      "metadata": {
        "id": "c9jahZ4dsq9i"
      },
      "execution_count": 10,
      "outputs": []
    },
    {
      "cell_type": "code",
      "source": [
        "# Splitting the data into testing, training and validation sets\n",
        "\n",
        "X_train, X_test, y_train, y_test = train_test_split(X, y, test_size=0.4, random_state=42)\n",
        "X_val, X_test, y_val, y_test = train_test_split(X_test, y_test, test_size=0.5, random_state=42)\n"
      ],
      "metadata": {
        "id": "Nu1xVWaBtcN1"
      },
      "execution_count": 11,
      "outputs": []
    },
    {
      "cell_type": "code",
      "source": [
        "# Standardize the data\n",
        "\n",
        "scaler = StandardScaler()\n",
        "X_train_scaled = scaler.fit_transform(X_train)\n",
        "X_val_scaled = scaler.transform(X_val)\n",
        "X_test_scaled = scaler.transform(X_test)"
      ],
      "metadata": {
        "id": "JgoUd0BDA9bA"
      },
      "execution_count": 12,
      "outputs": []
    },
    {
      "cell_type": "markdown",
      "source": [
        "With this I have standardized the data using StandardScalar.\n",
        "\n",
        "I also split the dataset into training (60%), validation (20%) and testing (20%)"
      ],
      "metadata": {
        "id": "HHNo7uBgBMro"
      }
    },
    {
      "cell_type": "code",
      "source": [
        "# Resampling to address the class imbalance\n",
        "\n",
        "rus = RandomUnderSampler(random_state=42)\n",
        "X_train_resampled, y_train_resampled = rus.fit_resample(X_train_scaled, y_train)"
      ],
      "metadata": {
        "id": "pBTXcRYZBdNB"
      },
      "execution_count": 13,
      "outputs": []
    },
    {
      "cell_type": "markdown",
      "source": [
        "Now, I am using random undersampling to balance the imbalanced dataset by matching the numer of fraudulent transactions. This is so by reducing the numbe rof samples in the majority class the model can focus more on learning from the minority class, improving it's ability to predict fraud."
      ],
      "metadata": {
        "id": "wxq9CdBzBrUM"
      }
    },
    {
      "cell_type": "markdown",
      "source": [
        "# Model Training"
      ],
      "metadata": {
        "id": "lHxStQtCEp6B"
      }
    },
    {
      "cell_type": "code",
      "source": [
        "# Training the logistic regression model\n",
        "\n",
        "log_reg = LogisticRegression()\n",
        "log_reg.fit(X_train_resampled, y_train_resampled)\n",
        "\n",
        "# Training the random forest model\n",
        "\n",
        "rf = RandomForestClassifier()\n",
        "rf.fit(X_train_resampled, y_train_resampled)"
      ],
      "metadata": {
        "colab": {
          "base_uri": "https://localhost:8080/",
          "height": 75
        },
        "id": "T8CWLWjnB45C",
        "outputId": "dfdb0a0b-292c-4d2a-a50e-49e211d766ed"
      },
      "execution_count": 16,
      "outputs": [
        {
          "output_type": "execute_result",
          "data": {
            "text/plain": [
              "RandomForestClassifier()"
            ],
            "text/html": [
              "<style>#sk-container-id-1 {color: black;background-color: white;}#sk-container-id-1 pre{padding: 0;}#sk-container-id-1 div.sk-toggleable {background-color: white;}#sk-container-id-1 label.sk-toggleable__label {cursor: pointer;display: block;width: 100%;margin-bottom: 0;padding: 0.3em;box-sizing: border-box;text-align: center;}#sk-container-id-1 label.sk-toggleable__label-arrow:before {content: \"▸\";float: left;margin-right: 0.25em;color: #696969;}#sk-container-id-1 label.sk-toggleable__label-arrow:hover:before {color: black;}#sk-container-id-1 div.sk-estimator:hover label.sk-toggleable__label-arrow:before {color: black;}#sk-container-id-1 div.sk-toggleable__content {max-height: 0;max-width: 0;overflow: hidden;text-align: left;background-color: #f0f8ff;}#sk-container-id-1 div.sk-toggleable__content pre {margin: 0.2em;color: black;border-radius: 0.25em;background-color: #f0f8ff;}#sk-container-id-1 input.sk-toggleable__control:checked~div.sk-toggleable__content {max-height: 200px;max-width: 100%;overflow: auto;}#sk-container-id-1 input.sk-toggleable__control:checked~label.sk-toggleable__label-arrow:before {content: \"▾\";}#sk-container-id-1 div.sk-estimator input.sk-toggleable__control:checked~label.sk-toggleable__label {background-color: #d4ebff;}#sk-container-id-1 div.sk-label input.sk-toggleable__control:checked~label.sk-toggleable__label {background-color: #d4ebff;}#sk-container-id-1 input.sk-hidden--visually {border: 0;clip: rect(1px 1px 1px 1px);clip: rect(1px, 1px, 1px, 1px);height: 1px;margin: -1px;overflow: hidden;padding: 0;position: absolute;width: 1px;}#sk-container-id-1 div.sk-estimator {font-family: monospace;background-color: #f0f8ff;border: 1px dotted black;border-radius: 0.25em;box-sizing: border-box;margin-bottom: 0.5em;}#sk-container-id-1 div.sk-estimator:hover {background-color: #d4ebff;}#sk-container-id-1 div.sk-parallel-item::after {content: \"\";width: 100%;border-bottom: 1px solid gray;flex-grow: 1;}#sk-container-id-1 div.sk-label:hover label.sk-toggleable__label {background-color: #d4ebff;}#sk-container-id-1 div.sk-serial::before {content: \"\";position: absolute;border-left: 1px solid gray;box-sizing: border-box;top: 0;bottom: 0;left: 50%;z-index: 0;}#sk-container-id-1 div.sk-serial {display: flex;flex-direction: column;align-items: center;background-color: white;padding-right: 0.2em;padding-left: 0.2em;position: relative;}#sk-container-id-1 div.sk-item {position: relative;z-index: 1;}#sk-container-id-1 div.sk-parallel {display: flex;align-items: stretch;justify-content: center;background-color: white;position: relative;}#sk-container-id-1 div.sk-item::before, #sk-container-id-1 div.sk-parallel-item::before {content: \"\";position: absolute;border-left: 1px solid gray;box-sizing: border-box;top: 0;bottom: 0;left: 50%;z-index: -1;}#sk-container-id-1 div.sk-parallel-item {display: flex;flex-direction: column;z-index: 1;position: relative;background-color: white;}#sk-container-id-1 div.sk-parallel-item:first-child::after {align-self: flex-end;width: 50%;}#sk-container-id-1 div.sk-parallel-item:last-child::after {align-self: flex-start;width: 50%;}#sk-container-id-1 div.sk-parallel-item:only-child::after {width: 0;}#sk-container-id-1 div.sk-dashed-wrapped {border: 1px dashed gray;margin: 0 0.4em 0.5em 0.4em;box-sizing: border-box;padding-bottom: 0.4em;background-color: white;}#sk-container-id-1 div.sk-label label {font-family: monospace;font-weight: bold;display: inline-block;line-height: 1.2em;}#sk-container-id-1 div.sk-label-container {text-align: center;}#sk-container-id-1 div.sk-container {/* jupyter's `normalize.less` sets `[hidden] { display: none; }` but bootstrap.min.css set `[hidden] { display: none !important; }` so we also need the `!important` here to be able to override the default hidden behavior on the sphinx rendered scikit-learn.org. See: https://github.com/scikit-learn/scikit-learn/issues/21755 */display: inline-block !important;position: relative;}#sk-container-id-1 div.sk-text-repr-fallback {display: none;}</style><div id=\"sk-container-id-1\" class=\"sk-top-container\"><div class=\"sk-text-repr-fallback\"><pre>RandomForestClassifier()</pre><b>In a Jupyter environment, please rerun this cell to show the HTML representation or trust the notebook. <br />On GitHub, the HTML representation is unable to render, please try loading this page with nbviewer.org.</b></div><div class=\"sk-container\" hidden><div class=\"sk-item\"><div class=\"sk-estimator sk-toggleable\"><input class=\"sk-toggleable__control sk-hidden--visually\" id=\"sk-estimator-id-1\" type=\"checkbox\" checked><label for=\"sk-estimator-id-1\" class=\"sk-toggleable__label sk-toggleable__label-arrow\">RandomForestClassifier</label><div class=\"sk-toggleable__content\"><pre>RandomForestClassifier()</pre></div></div></div></div></div>"
            ]
          },
          "metadata": {},
          "execution_count": 16
        }
      ]
    },
    {
      "cell_type": "markdown",
      "source": [
        "# Model Evaluation"
      ],
      "metadata": {
        "id": "eJvQT6qiE2US"
      }
    },
    {
      "cell_type": "code",
      "source": [
        "# Evaluating the logistic regression model on the validation set\n",
        "\n",
        "y_val_pred_log_reg = log_reg.predict(X_val_scaled)\n",
        "print(\"Logistic Regression Classification Report:\")\n",
        "print(classification_report(y_val, y_val_pred_log_reg))\n",
        "\n",
        "\n",
        "# Evaluating the random forest model on the validation set\n",
        "\n",
        "y_val_pred_rf = rf.predict(X_val_scaled)\n",
        "print(\"\\nRandom Forest Classification Report:\")\n",
        "print(classification_report(y_val, y_val_pred_rf))"
      ],
      "metadata": {
        "colab": {
          "base_uri": "https://localhost:8080/"
        },
        "id": "gn4p3unfEvhb",
        "outputId": "a0958e1f-0439-4300-cc9c-59d60a2efa44"
      },
      "execution_count": 19,
      "outputs": [
        {
          "output_type": "stream",
          "name": "stdout",
          "text": [
            "Logistic Regression Classification Report:\n",
            "              precision    recall  f1-score   support\n",
            "\n",
            "           0       1.00      0.97      0.98     56863\n",
            "           1       0.05      0.92      0.09        98\n",
            "\n",
            "    accuracy                           0.97     56961\n",
            "   macro avg       0.52      0.94      0.54     56961\n",
            "weighted avg       1.00      0.97      0.98     56961\n",
            "\n",
            "\n",
            "Random Forest Classification Report:\n",
            "              precision    recall  f1-score   support\n",
            "\n",
            "           0       1.00      0.98      0.99     56863\n",
            "           1       0.06      0.90      0.12        98\n",
            "\n",
            "    accuracy                           0.98     56961\n",
            "   macro avg       0.53      0.94      0.55     56961\n",
            "weighted avg       1.00      0.98      0.99     56961\n",
            "\n"
          ]
        }
      ]
    },
    {
      "cell_type": "markdown",
      "source": [
        "I have now trained the logisitc regression and random forest models on the resampled training data.\n",
        "\n",
        "Following which I evaluated the model perfomance onthe validation set.\n",
        "\n",
        "Based on the results from the report we can see that the Random Forest model outperforms the Logistic Regression model as it has a higher Recall, Precision and F1-Score. This indicats that the Random Forest Model is not only better at detecting and identifying fraudulent transaction but it also achieves a better balance between precision and recall for detecting the fraudulent transactions."
      ],
      "metadata": {
        "id": "3TpmchlrCxge"
      }
    },
    {
      "cell_type": "code",
      "source": [
        "# Evaluating random forest model on test set\n",
        "y_test_pred = rf.predict(X_test_scaled)\n",
        "\n",
        "print(\"Final Model Classification Report:\")\n",
        "print(classification_report(y_test, y_test_pred))"
      ],
      "metadata": {
        "colab": {
          "base_uri": "https://localhost:8080/"
        },
        "id": "BwDSjXqyC6dh",
        "outputId": "9e7f7bab-f8a1-4c63-d4f3-bc45a28b5879"
      },
      "execution_count": 18,
      "outputs": [
        {
          "output_type": "stream",
          "name": "stdout",
          "text": [
            "Final Model Classification Report:\n",
            "              precision    recall  f1-score   support\n",
            "\n",
            "           0       1.00      0.98      0.99     56869\n",
            "           1       0.06      0.92      0.12        93\n",
            "\n",
            "    accuracy                           0.98     56962\n",
            "   macro avg       0.53      0.95      0.56     56962\n",
            "weighted avg       1.00      0.98      0.99     56962\n",
            "\n"
          ]
        }
      ]
    },
    {
      "cell_type": "markdown",
      "source": [
        "Now that I have determined the Random Tree Model to be the best fit for this dataset I have used the model on the test set in order to obtain the final performance metrics."
      ],
      "metadata": {
        "id": "DlVmZzEk7eKH"
      }
    },
    {
      "cell_type": "markdown",
      "source": [
        "# Thoughts and Feelings\n",
        "\n",
        "Overall I found that the Random Forest model demonstrated a good performance in detecting fraudulent transactions, by achieving a high precision, recall, and F1-score.\n",
        "The findings also suggest that the Random Forest model is suitable for credit card fraud detection tasks, especially when dealing with imbalanced datasets."
      ],
      "metadata": {
        "id": "afTlTzMyFQlQ"
      }
    }
  ]
}